{
 "cells": [
  {
   "cell_type": "markdown",
   "id": "c14d082c-b9bd-4d36-9039-92005273c9c8",
   "metadata": {},
   "source": [
    "# Deep Learning\n",
    "\n",
    "La première étape intermédiaire de notre projet est d'utiliser les algorithmes ci-dessous sur le célébre dataset CIFAR-10.\n",
    "\n",
    "Les algorithmes à étudier :\n",
    "\n",
    "**Modèles précédents**\n",
    "- Modèle Linéaire\n",
    "- Perceptron Multicouches\n",
    "\n",
    "**Nouveaux modèles**\n",
    "- Conv Net(s)\n",
    "- ResNets / HighwayNets - RNN(s)\n",
    "\n",
    "Pour chacun des algorithmes cités, il faut :\n",
    "1. L'influence de tous les hyperparamètres des modèles\n",
    "    - Structure\n",
    "    - Fonctions d'activations\n",
    "    - etc.\n",
    "2. Les paramètres des algorithmes d'apprentissages\n",
    "    - Learning Rate\n",
    "    - Momentum\n",
    "    - etc."
   ]
  },
  {
   "cell_type": "markdown",
   "id": "c9dbb86e-0a9e-4648-a47e-dcd87ad1e0c5",
   "metadata": {},
   "source": [
    "----"
   ]
  },
  {
   "cell_type": "code",
   "execution_count": 32,
   "id": "e378f01b-f353-4e9b-8a80-73c9b83f6bd1",
   "metadata": {
    "tags": []
   },
   "outputs": [],
   "source": [
    "import tensorflow as tf\n",
    "from tensorboard.plugins.hparams import api as hp\n",
    "import numpy as np\n",
    "import os"
   ]
  },
  {
   "cell_type": "code",
   "execution_count": 29,
   "id": "6c5f4e0a-0bbb-4378-a289-d8646e065ace",
   "metadata": {},
   "outputs": [
    {
     "name": "stdout",
     "output_type": "stream",
     "text": [
      "2.6.0\n",
      "/device:GPU:0\n"
     ]
    },
    {
     "name": "stderr",
     "output_type": "stream",
     "text": [
      "2021-12-13 16:05:07.941920: I tensorflow/core/common_runtime/pluggable_device/pluggable_device_factory.cc:305] Could not identify NUMA node of platform GPU ID 0, defaulting to 0. Your kernel may not have been built with NUMA support.\n",
      "2021-12-13 16:05:07.942006: I tensorflow/core/common_runtime/pluggable_device/pluggable_device_factory.cc:271] Created TensorFlow device (/device:GPU:0 with 0 MB memory) -> physical PluggableDevice (device: 0, name: METAL, pci bus id: <undefined>)\n"
     ]
    }
   ],
   "source": [
    "print(tf.__version__)\n",
    "print(tf.test.gpu_device_name())\n",
    "\n",
    "tf.keras.backend.clear_session()\n",
    "tf.config.optimizer.set_jit(False)"
   ]
  },
  {
   "cell_type": "markdown",
   "id": "dd9a71ea-ca82-439e-8f2e-8ecef5e0e192",
   "metadata": {},
   "source": [
    "## Importation du dataset"
   ]
  },
  {
   "cell_type": "code",
   "execution_count": 3,
   "id": "fefc0c44-22d0-497f-affc-949cde51e72b",
   "metadata": {},
   "outputs": [],
   "source": [
    "(x_train, y_train), (x_test, y_test) = tf.keras.datasets.cifar10.load_data()"
   ]
  },
  {
   "cell_type": "code",
   "execution_count": 4,
   "id": "2bd58edc-df9b-49ed-ab39-9572fa1ed97a",
   "metadata": {},
   "outputs": [],
   "source": [
    "NUM_CLASSES = 10\n",
    "IMG_SIZE = x_train[0].shape"
   ]
  },
  {
   "cell_type": "code",
   "execution_count": 5,
   "id": "b1ff4114-34f9-4e83-9ee2-a934a53403c6",
   "metadata": {},
   "outputs": [],
   "source": [
    "x_train = x_train.astype('float32') / 256\n",
    "x_test = x_test.astype('float32') / 256\n",
    "\n",
    "y_train = tf.keras.utils.to_categorical(y_train, num_classes=NUM_CLASSES)\n",
    "y_test = tf.keras.utils.to_categorical(y_test, num_classes=NUM_CLASSES)"
   ]
  },
  {
   "cell_type": "code",
   "execution_count": 6,
   "id": "850b786e-e2ab-40b1-b5cc-b5cdf5125b5f",
   "metadata": {},
   "outputs": [],
   "source": [
    "LOG_DIR = os.path.join(\"logs\")"
   ]
  },
  {
   "cell_type": "markdown",
   "id": "afc27c2c",
   "metadata": {},
   "source": [
    "## Fixer les seeds"
   ]
  },
  {
   "cell_type": "code",
   "execution_count": 33,
   "id": "ff124095",
   "metadata": {},
   "outputs": [],
   "source": [
    "tf.random.set_seed(42)\n",
    "np.random.seed(42)"
   ]
  },
  {
   "cell_type": "markdown",
   "id": "0f699da7-beb8-4e31-b040-cd63a01ab54a",
   "metadata": {},
   "source": [
    "# Modèle linéaire"
   ]
  },
  {
   "cell_type": "code",
   "execution_count": 7,
   "id": "55eb6a9a-24c4-4a4c-817a-e27eb4644830",
   "metadata": {},
   "outputs": [],
   "source": [
    "KERNEL_INITIALIZER = 'zeros'\n",
    "OPTIMIZER = tf.keras.optimizers.SGD()\n",
    "BATCH_SIZE = 256\n",
    "EPOCHS = 10\n",
    "SHUFFLE = True\n",
    "LINEAR_LOG = os.path.join(LOG_DIR,\n",
    "                       \"linear\",\n",
    "                       f\"linear_model_ep_{EPOCHS}_bs_{BATCH_SIZE}_opt_{type(OPTIMIZER).__name__}_ki_{KERNEL_INITIALIZER}\")"
   ]
  },
  {
   "cell_type": "code",
   "execution_count": 8,
   "id": "008c642b-1c62-4643-81d6-b6a73942461b",
   "metadata": {},
   "outputs": [
    {
     "name": "stderr",
     "output_type": "stream",
     "text": [
      "2021-12-13 15:13:20.565990: I tensorflow/core/common_runtime/pluggable_device/pluggable_device_factory.cc:305] Could not identify NUMA node of platform GPU ID 0, defaulting to 0. Your kernel may not have been built with NUMA support.\n",
      "2021-12-13 15:13:20.566008: I tensorflow/core/common_runtime/pluggable_device/pluggable_device_factory.cc:271] Created TensorFlow device (/job:localhost/replica:0/task:0/device:GPU:0 with 0 MB memory) -> physical PluggableDevice (device: 0, name: METAL, pci bus id: <undefined>)\n"
     ]
    }
   ],
   "source": [
    "linear_model = tf.keras.models.Sequential()\n",
    "\n",
    "linear_model.add(tf.keras.layers.Flatten())\n",
    "linear_model.add(tf.keras.layers.Dense(IMG_SIZE[0]*IMG_SIZE[1]*IMG_SIZE[2],\n",
    "                                       activation='relu'))\n",
    "linear_model.add(tf.keras.layers.Dense(NUM_CLASSES,\n",
    "                                       activation='softmax'))"
   ]
  },
  {
   "cell_type": "code",
   "execution_count": 9,
   "id": "bedfdca4-6bd4-46f8-8e3d-6f145d679371",
   "metadata": {},
   "outputs": [],
   "source": [
    "linear_model.compile(loss=tf.keras.losses.CategoricalCrossentropy(),\n",
    "                     optimizer=OPTIMIZER,\n",
    "                     metrics=\"accuracy\")"
   ]
  },
  {
   "cell_type": "code",
   "execution_count": 10,
   "id": "6c455402-b151-4c2b-93bf-1ead051f268b",
   "metadata": {},
   "outputs": [
    {
     "name": "stderr",
     "output_type": "stream",
     "text": [
      "2021-12-13 15:13:20.653091: I tensorflow/core/profiler/lib/profiler_session.cc:131] Profiler session initializing.\n",
      "2021-12-13 15:13:20.653099: I tensorflow/core/profiler/lib/profiler_session.cc:146] Profiler session started.\n",
      "2021-12-13 15:13:20.653133: I tensorflow/core/profiler/lib/profiler_session.cc:164] Profiler session tear down.\n",
      "2021-12-13 15:13:21.544632: I tensorflow/compiler/mlir/mlir_graph_optimization_pass.cc:185] None of the MLIR Optimization Passes are enabled (registered 2)\n",
      "2021-12-13 15:13:21.546659: W tensorflow/core/platform/profile_utils/cpu_utils.cc:128] Failed to get CPU frequency: 0 Hz\n",
      "2021-12-13 15:13:21.744502: I tensorflow/core/grappler/optimizers/custom_graph_optimizer_registry.cc:112] Plugin optimizer for device_type GPU is enabled.\n"
     ]
    },
    {
     "name": "stdout",
     "output_type": "stream",
     "text": [
      "Epoch 1/10\n",
      " 11/196 [>.............................] - ETA: 2s - loss: 2.2524 - accuracy: 0.1573"
     ]
    },
    {
     "name": "stderr",
     "output_type": "stream",
     "text": [
      "2021-12-13 15:13:22.324818: I tensorflow/core/profiler/lib/profiler_session.cc:131] Profiler session initializing.\n",
      "2021-12-13 15:13:22.324826: I tensorflow/core/profiler/lib/profiler_session.cc:146] Profiler session started.\n",
      "2021-12-13 15:13:22.341655: I tensorflow/core/profiler/lib/profiler_session.cc:66] Profiler session collecting data.\n",
      "2021-12-13 15:13:22.343940: I tensorflow/core/profiler/lib/profiler_session.cc:164] Profiler session tear down.\n",
      "2021-12-13 15:13:22.347842: I tensorflow/core/profiler/rpc/client/save_profile.cc:136] Creating directory: logs/linear/linear_model_ep_10_bs_256_opt_SGD_ki_zeros/train/plugins/profile/2021_12_13_15_13_22\n",
      "\n",
      "2021-12-13 15:13:22.348537: I tensorflow/core/profiler/rpc/client/save_profile.cc:142] Dumped gzipped tool data for trace.json.gz to logs/linear/linear_model_ep_10_bs_256_opt_SGD_ki_zeros/train/plugins/profile/2021_12_13_15_13_22/MacBook-Pro-de-Reda.local.trace.json.gz\n",
      "2021-12-13 15:13:22.350591: I tensorflow/core/profiler/rpc/client/save_profile.cc:136] Creating directory: logs/linear/linear_model_ep_10_bs_256_opt_SGD_ki_zeros/train/plugins/profile/2021_12_13_15_13_22\n",
      "\n",
      "2021-12-13 15:13:22.350779: I tensorflow/core/profiler/rpc/client/save_profile.cc:142] Dumped gzipped tool data for memory_profile.json.gz to logs/linear/linear_model_ep_10_bs_256_opt_SGD_ki_zeros/train/plugins/profile/2021_12_13_15_13_22/MacBook-Pro-de-Reda.local.memory_profile.json.gz\n",
      "2021-12-13 15:13:22.351566: I tensorflow/core/profiler/rpc/client/capture_profile.cc:251] Creating directory: logs/linear/linear_model_ep_10_bs_256_opt_SGD_ki_zeros/train/plugins/profile/2021_12_13_15_13_22\n",
      "Dumped tool data for xplane.pb to logs/linear/linear_model_ep_10_bs_256_opt_SGD_ki_zeros/train/plugins/profile/2021_12_13_15_13_22/MacBook-Pro-de-Reda.local.xplane.pb\n",
      "Dumped tool data for overview_page.pb to logs/linear/linear_model_ep_10_bs_256_opt_SGD_ki_zeros/train/plugins/profile/2021_12_13_15_13_22/MacBook-Pro-de-Reda.local.overview_page.pb\n",
      "Dumped tool data for input_pipeline.pb to logs/linear/linear_model_ep_10_bs_256_opt_SGD_ki_zeros/train/plugins/profile/2021_12_13_15_13_22/MacBook-Pro-de-Reda.local.input_pipeline.pb\n",
      "Dumped tool data for tensorflow_stats.pb to logs/linear/linear_model_ep_10_bs_256_opt_SGD_ki_zeros/train/plugins/profile/2021_12_13_15_13_22/MacBook-Pro-de-Reda.local.tensorflow_stats.pb\n",
      "Dumped tool data for kernel_stats.pb to logs/linear/linear_model_ep_10_bs_256_opt_SGD_ki_zeros/train/plugins/profile/2021_12_13_15_13_22/MacBook-Pro-de-Reda.local.kernel_stats.pb\n",
      "\n"
     ]
    },
    {
     "name": "stdout",
     "output_type": "stream",
     "text": [
      "196/196 [==============================] - ETA: 0s - loss: 1.9865 - accuracy: 0.2939"
     ]
    },
    {
     "name": "stderr",
     "output_type": "stream",
     "text": [
      "2021-12-13 15:13:24.987170: I tensorflow/core/grappler/optimizers/custom_graph_optimizer_registry.cc:112] Plugin optimizer for device_type GPU is enabled.\n"
     ]
    },
    {
     "name": "stdout",
     "output_type": "stream",
     "text": [
      "196/196 [==============================] - 4s 16ms/step - loss: 1.9865 - accuracy: 0.2939 - val_loss: 1.9341 - val_accuracy: 0.3270\n",
      "Epoch 2/10\n",
      "196/196 [==============================] - 3s 14ms/step - loss: 1.8337 - accuracy: 0.3618 - val_loss: 1.8417 - val_accuracy: 0.3427\n",
      "Epoch 3/10\n",
      "196/196 [==============================] - 3s 13ms/step - loss: 1.7792 - accuracy: 0.3807 - val_loss: 1.7670 - val_accuracy: 0.3859\n",
      "Epoch 4/10\n",
      "196/196 [==============================] - 3s 13ms/step - loss: 1.7414 - accuracy: 0.3982 - val_loss: 1.7650 - val_accuracy: 0.3812\n",
      "Epoch 5/10\n",
      "196/196 [==============================] - 3s 13ms/step - loss: 1.7158 - accuracy: 0.4070 - val_loss: 1.7581 - val_accuracy: 0.3789\n",
      "Epoch 6/10\n",
      "196/196 [==============================] - 3s 13ms/step - loss: 1.6906 - accuracy: 0.4173 - val_loss: 1.7275 - val_accuracy: 0.4045\n",
      "Epoch 7/10\n",
      "196/196 [==============================] - 3s 13ms/step - loss: 1.6705 - accuracy: 0.4249 - val_loss: 1.6872 - val_accuracy: 0.4107\n",
      "Epoch 8/10\n",
      "196/196 [==============================] - 3s 13ms/step - loss: 1.6509 - accuracy: 0.4296 - val_loss: 1.6565 - val_accuracy: 0.4292\n",
      "Epoch 9/10\n",
      "196/196 [==============================] - 3s 14ms/step - loss: 1.6332 - accuracy: 0.4385 - val_loss: 1.6391 - val_accuracy: 0.4355\n",
      "Epoch 10/10\n",
      "196/196 [==============================] - 3s 13ms/step - loss: 1.6177 - accuracy: 0.4432 - val_loss: 1.6627 - val_accuracy: 0.4235\n"
     ]
    },
    {
     "data": {
      "text/plain": [
       "<keras.callbacks.History at 0x28fdbd0a0>"
      ]
     },
     "execution_count": 10,
     "metadata": {},
     "output_type": "execute_result"
    }
   ],
   "source": [
    "linear_model.fit(x_train,\n",
    "                 y_train,\n",
    "                 batch_size=BATCH_SIZE,\n",
    "                 epochs=EPOCHS,\n",
    "                 validation_data=(x_test, y_test),\n",
    "                 shuffle=SHUFFLE,\n",
    "                 callbacks=[tf.keras.callbacks.TensorBoard(LINEAR_LOG, histogram_freq=1)])"
   ]
  },
  {
   "cell_type": "code",
   "execution_count": 11,
   "id": "6370d279-bc7a-470f-a1e7-c35d9a9773dc",
   "metadata": {},
   "outputs": [
    {
     "name": "stdout",
     "output_type": "stream",
     "text": [
      "313/313 [==============================] - 2s 5ms/step - loss: 1.6627 - accuracy: 0.4235\n",
      "Test loss: 1.6626532077789307\n",
      "Test accuracy: 0.42350003123283386\n"
     ]
    }
   ],
   "source": [
    "scores = linear_model.evaluate(x_test, y_test, verbose=1)\n",
    "print('Test loss:', scores[0])\n",
    "print('Test accuracy:', scores[1])"
   ]
  },
  {
   "cell_type": "code",
   "execution_count": 12,
   "id": "fa0e1361-4dcb-4294-81f2-08b1a10cee91",
   "metadata": {},
   "outputs": [],
   "source": [
    "# Ajouter une matrice de correlation"
   ]
  },
  {
   "cell_type": "markdown",
   "id": "68442913-a7c8-4c79-873a-b009912ba59b",
   "metadata": {},
   "source": [
    "## MLP"
   ]
  },
  {
   "cell_type": "markdown",
   "id": "b553de06",
   "metadata": {},
   "source": [
    "Hyperparameter tuning using Tensorflow and Tensorboard : https://www.tensorflow.org/tensorboard/hyperparameter_tuning_with_hparams"
   ]
  },
  {
   "cell_type": "code",
   "execution_count": 58,
   "id": "22ea9914",
   "metadata": {},
   "outputs": [],
   "source": [
    "NUM_LAYERS = hp.HParam('num_layers', hp.Discrete(range(2, 6)))\n",
    "NUM_UNITS = hp.HParam('num_units', hp.Discrete([8, 16, 32, 64, 128]))\n",
    "OPTIMIZER = hp.HParam('optimizer', hp.Discrete(['adam', 'sgd', 'rmsprop']))\n",
    "BATCH_SIZE = 256\n",
    "EPOCHS = 200\n",
    "SHUFFLE = True\n",
    "HPARAM_DIR = os.path.join(LOG_DIR, \"mlp\", \"hparam_tuning\")"
   ]
  },
  {
   "cell_type": "code",
   "execution_count": 59,
   "id": "8d6ee014",
   "metadata": {},
   "outputs": [],
   "source": [
    "with tf.summary.create_file_writer(HPARAM_DIR).as_default():\n",
    "    hp.hparams_config(\n",
    "    hparams=[NUM_UNITS, NUM_LAYERS, OPTIMIZER],\n",
    "    metrics=[hp.Metric(\"accuracy\", display_name='Accuracy')],\n",
    "  )\n"
   ]
  },
  {
   "cell_type": "code",
   "execution_count": 63,
   "id": "2a570796-24ee-45a3-9417-3e502624b586",
   "metadata": {},
   "outputs": [
    {
     "name": "stderr",
     "output_type": "stream",
     "text": [
      "2021-12-13 17:08:59.442779: I tensorflow/core/profiler/lib/profiler_session.cc:131] Profiler session initializing.\n",
      "2021-12-13 17:08:59.442796: I tensorflow/core/profiler/lib/profiler_session.cc:146] Profiler session started.\n",
      "2021-12-13 17:08:59.442870: I tensorflow/core/profiler/lib/profiler_session.cc:164] Profiler session tear down.\n"
     ]
    },
    {
     "ename": "TypeError",
     "evalue": "hparams() got an unexpected keyword argument 'metrics'",
     "output_type": "error",
     "traceback": [
      "\u001b[0;31m---------------------------------------------------------------------------\u001b[0m",
      "\u001b[0;31mTypeError\u001b[0m                                 Traceback (most recent call last)",
      "\u001b[0;32m/var/folders/b0/8j3ywq0d4_xdxf2sfxqf_rpr0000gn/T/ipykernel_1217/3426075909.py\u001b[0m in \u001b[0;36m<module>\u001b[0;34m\u001b[0m\n\u001b[1;32m     23\u001b[0m             \u001b[0mshuffle\u001b[0m\u001b[0;34m=\u001b[0m\u001b[0mSHUFFLE\u001b[0m\u001b[0;34m,\u001b[0m\u001b[0;34m\u001b[0m\u001b[0;34m\u001b[0m\u001b[0m\n\u001b[1;32m     24\u001b[0m             callbacks=[tf.keras.callbacks.TensorBoard(MLP_LOG, histogram_freq=1),\n\u001b[0;32m---> 25\u001b[0;31m                        hp.KerasCallback(MLP_LOG, hp.hparams(hparams=[NUM_UNITS, NUM_LAYERS, OPTIMIZER],\n\u001b[0m\u001b[1;32m     26\u001b[0m                                                                     \u001b[0mmetrics\u001b[0m\u001b[0;34m=\u001b[0m\u001b[0;34m[\u001b[0m\u001b[0mhp\u001b[0m\u001b[0;34m.\u001b[0m\u001b[0mMetric\u001b[0m\u001b[0;34m(\u001b[0m\u001b[0;34m\"accuracy\"\u001b[0m\u001b[0;34m,\u001b[0m \u001b[0mdisplay_name\u001b[0m\u001b[0;34m=\u001b[0m\u001b[0;34m'Accuracy'\u001b[0m\u001b[0;34m)\u001b[0m\u001b[0;34m]\u001b[0m\u001b[0;34m,\u001b[0m\u001b[0;34m\u001b[0m\u001b[0;34m\u001b[0m\u001b[0m\n\u001b[1;32m     27\u001b[0m                                                                   ))]\n",
      "\u001b[0;31mTypeError\u001b[0m: hparams() got an unexpected keyword argument 'metrics'"
     ]
    }
   ],
   "source": [
    "def mlp_model(hparams: hp) -> tf.keras.models.Model:\n",
    "    random_units = []\n",
    "    num_layer = None\n",
    "    input_ = tf.keras.layers.Input(shape=(32, 32, 3))\n",
    "    hidden_layers = tf.keras.layers.Flatten()(input_)\n",
    "    for opt in OPTIMIZER.domain.values:\n",
    "        for num_layers in NUM_LAYERS.domain.values:\n",
    "            random_unit = np.random.choice(NUM_UNITS.domain.values, 1)\n",
    "            random_units.append(random_unit)\n",
    "            hidden_layers = tf.keras.layers.Dense(random_unit, activation=\"relu\")(hidden_layers)\n",
    "\n",
    "        output_ = tf.keras.layers.Dense(NUM_CLASSES, activation=\"softmax\")(hidden_layers)\n",
    "        mlp = tf.keras.models.Model(input_, output_)\n",
    "        mlp.compile(loss=tf.keras.losses.CategoricalCrossentropy(),\n",
    "                    optimizer=opt,\n",
    "                    metrics=\"accuracy\")\n",
    "        MLP_LOG = os.path.join(LOG_DIR, \"mlp\", \"hparam_tuning\",\n",
    "                f\"mlp_ep_{EPOCHS}_bs_{BATCH_SIZE}_opt_{type(opt).__name__}_layers_{NUM_LAYERS}\")\n",
    "        mlp.fit(x_train,\n",
    "                y_train,\n",
    "                batch_size=BATCH_SIZE,\n",
    "                epochs=EPOCHS,\n",
    "                validation_data=(x_test, y_test),\n",
    "                shuffle=SHUFFLE,\n",
    "                callbacks=[tf.keras.callbacks.TensorBoard(MLP_LOG, histogram_freq=1),\n",
    "                           hp.KerasCallback(MLP_LOG, hparams)]\n",
    "               )\n",
    "        _, accuracy = mlp.evaluate(x_test, y_test)\n",
    "    return history"
   ]
  },
  {
   "cell_type": "code",
   "execution_count": 52,
   "id": "71adab3d",
   "metadata": {},
   "outputs": [
    {
     "name": "stderr",
     "output_type": "stream",
     "text": [
      "2021-12-13 17:00:51.640119: I tensorflow/core/profiler/lib/profiler_session.cc:131] Profiler session initializing.\n",
      "2021-12-13 17:00:51.640141: I tensorflow/core/profiler/lib/profiler_session.cc:146] Profiler session started.\n",
      "2021-12-13 17:00:51.640165: I tensorflow/core/profiler/lib/profiler_session.cc:164] Profiler session tear down.\n"
     ]
    },
    {
     "ename": "NameError",
     "evalue": "name 'hparams' is not defined",
     "output_type": "error",
     "traceback": [
      "\u001b[0;31m---------------------------------------------------------------------------\u001b[0m",
      "\u001b[0;31mNameError\u001b[0m                                 Traceback (most recent call last)",
      "\u001b[0;32m/var/folders/b0/8j3ywq0d4_xdxf2sfxqf_rpr0000gn/T/ipykernel_1217/1625179200.py\u001b[0m in \u001b[0;36m<module>\u001b[0;34m\u001b[0m\n\u001b[0;32m----> 1\u001b[0;31m \u001b[0mmlp_model\u001b[0m\u001b[0;34m(\u001b[0m\u001b[0;34m)\u001b[0m\u001b[0;34m\u001b[0m\u001b[0;34m\u001b[0m\u001b[0m\n\u001b[0m",
      "\u001b[0;32m/var/folders/b0/8j3ywq0d4_xdxf2sfxqf_rpr0000gn/T/ipykernel_1217/533022516.py\u001b[0m in \u001b[0;36mmlp_model\u001b[0;34m()\u001b[0m\n\u001b[1;32m     24\u001b[0m                 \u001b[0mshuffle\u001b[0m\u001b[0;34m=\u001b[0m\u001b[0mSHUFFLE\u001b[0m\u001b[0;34m,\u001b[0m\u001b[0;34m\u001b[0m\u001b[0;34m\u001b[0m\u001b[0m\n\u001b[1;32m     25\u001b[0m                 callbacks=[tf.keras.callbacks.TensorBoard(MLP_LOG, histogram_freq=1),\n\u001b[0;32m---> 26\u001b[0;31m                            hp.KerasCallback(MLP_LOG, hparams)]\n\u001b[0m\u001b[1;32m     27\u001b[0m                )\n\u001b[1;32m     28\u001b[0m         \u001b[0m_\u001b[0m\u001b[0;34m,\u001b[0m \u001b[0maccuracy\u001b[0m \u001b[0;34m=\u001b[0m \u001b[0mmlp\u001b[0m\u001b[0;34m.\u001b[0m\u001b[0mevaluate\u001b[0m\u001b[0;34m(\u001b[0m\u001b[0mx_test\u001b[0m\u001b[0;34m,\u001b[0m \u001b[0my_test\u001b[0m\u001b[0;34m)\u001b[0m\u001b[0;34m\u001b[0m\u001b[0;34m\u001b[0m\u001b[0m\n",
      "\u001b[0;31mNameError\u001b[0m: name 'hparams' is not defined"
     ]
    }
   ],
   "source": [
    "\n"
   ]
  },
  {
   "cell_type": "code",
   "execution_count": null,
   "id": "b081672b",
   "metadata": {},
   "outputs": [],
   "source": []
  }
 ],
 "metadata": {
  "kernelspec": {
   "display_name": "Python 3 (ipykernel)",
   "language": "python",
   "name": "python3"
  },
  "language_info": {
   "codemirror_mode": {
    "name": "ipython",
    "version": 3
   },
   "file_extension": ".py",
   "mimetype": "text/x-python",
   "name": "python",
   "nbconvert_exporter": "python",
   "pygments_lexer": "ipython3",
   "version": "3.9.5"
  }
 },
 "nbformat": 4,
 "nbformat_minor": 5
}
