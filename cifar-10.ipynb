{
 "cells": [
  {
   "cell_type": "markdown",
   "id": "c14d082c-b9bd-4d36-9039-92005273c9c8",
   "metadata": {},
   "source": [
    "# Deep Learning\n",
    "\n",
    "La première étape intermédiaire de notre projet est d'utiliser les algorithmes ci-dessous sur le célébre dataset CIFAR-10.\n",
    "\n",
    "Les algorithmes à étudier :\n",
    "\n",
    "**Modèles précédents**\n",
    "- Modèle Linéaire\n",
    "- Perceptron Multicouches\n",
    "\n",
    "**Nouveaux modèles**\n",
    "- Conv Net(s)\n",
    "- ResNets / HighwayNets - RNN(s)\n",
    "\n",
    "Pour chacun des algorithmes cités, il faut :\n",
    "1. L'influence de tous les hyperparamètres des modèles\n",
    "    - Structure\n",
    "    - Fonctions d'activations\n",
    "    - etc.\n",
    "2. Les paramètres des algorithmes d'apprentissages\n",
    "    - Learning Rate\n",
    "    - Momentum\n",
    "    - etc."
   ]
  },
  {
   "cell_type": "markdown",
   "id": "c9dbb86e-0a9e-4648-a47e-dcd87ad1e0c5",
   "metadata": {},
   "source": [
    "----"
   ]
  },
  {
   "cell_type": "code",
   "execution_count": 1,
   "id": "e378f01b-f353-4e9b-8a80-73c9b83f6bd1",
   "metadata": {
    "tags": []
   },
   "outputs": [],
   "source": [
    "import tensorflow as tf\n",
    "import os"
   ]
  },
  {
   "cell_type": "code",
   "execution_count": 2,
   "id": "6c5f4e0a-0bbb-4378-a289-d8646e065ace",
   "metadata": {},
   "outputs": [
    {
     "name": "stdout",
     "output_type": "stream",
     "text": [
      "2.6.0\n",
      "/device:GPU:0\n",
      "Metal device set to: Apple M1\n"
     ]
    },
    {
     "name": "stderr",
     "output_type": "stream",
     "text": [
      "2021-12-08 22:28:18.536563: I tensorflow/core/common_runtime/pluggable_device/pluggable_device_factory.cc:305] Could not identify NUMA node of platform GPU ID 0, defaulting to 0. Your kernel may not have been built with NUMA support.\n",
      "2021-12-08 22:28:18.536661: I tensorflow/core/common_runtime/pluggable_device/pluggable_device_factory.cc:271] Created TensorFlow device (/device:GPU:0 with 0 MB memory) -> physical PluggableDevice (device: 0, name: METAL, pci bus id: <undefined>)\n"
     ]
    }
   ],
   "source": [
    "print(tf.__version__)\n",
    "print(tf.test.gpu_device_name())\n",
    "\n",
    "tf.keras.backend.clear_session()\n",
    "tf.config.optimizer.set_jit(False)"
   ]
  },
  {
   "cell_type": "markdown",
   "id": "dd9a71ea-ca82-439e-8f2e-8ecef5e0e192",
   "metadata": {},
   "source": [
    "## Importation du dataset"
   ]
  },
  {
   "cell_type": "code",
   "execution_count": 3,
   "id": "fefc0c44-22d0-497f-affc-949cde51e72b",
   "metadata": {},
   "outputs": [],
   "source": [
    "(x_train, y_train), (x_test, y_test) = tf.keras.datasets.cifar10.load_data()"
   ]
  },
  {
   "cell_type": "code",
   "execution_count": 4,
   "id": "2bd58edc-df9b-49ed-ab39-9572fa1ed97a",
   "metadata": {},
   "outputs": [],
   "source": [
    "NUM_CLASSES = 10\n",
    "IMG_SIZE = x_train[0].shape"
   ]
  },
  {
   "cell_type": "code",
   "execution_count": 5,
   "id": "b1ff4114-34f9-4e83-9ee2-a934a53403c6",
   "metadata": {},
   "outputs": [],
   "source": [
    "x_train = x_train.astype('float32') / 256\n",
    "x_test = x_test.astype('float32') / 256\n",
    "\n",
    "y_train = tf.keras.utils.to_categorical(y_train, num_classes=NUM_CLASSES)\n",
    "y_test = tf.keras.utils.to_categorical(y_test, num_classes=NUM_CLASSES)"
   ]
  },
  {
   "cell_type": "code",
   "execution_count": 6,
   "id": "850b786e-e2ab-40b1-b5cc-b5cdf5125b5f",
   "metadata": {},
   "outputs": [],
   "source": [
    "LOG_DIR = os.path.join(\"logs\")"
   ]
  },
  {
   "cell_type": "markdown",
   "id": "0f699da7-beb8-4e31-b040-cd63a01ab54a",
   "metadata": {},
   "source": [
    "# Modèle linéaire"
   ]
  },
  {
   "cell_type": "code",
   "execution_count": 7,
   "id": "55eb6a9a-24c4-4a4c-817a-e27eb4644830",
   "metadata": {},
   "outputs": [],
   "source": [
    "KERNEL_INITIALIZER = 'zeros'\n",
    "OPTIMIZER = tf.keras.optimizers.SGD()\n",
    "BATCH_SIZE = 256\n",
    "EPOCHS = 100\n",
    "SHUFFLE = True\n",
    "LINEAR_LOG = os.path.join(LOG_DIR,\n",
    "                       \"linear\",\n",
    "                       f\"linear_model_ep_{EPOCHS}_bs_{BATCH_SIZE}_opt_{type(OPTIMIZER).__name__}_ki_{KERNEL_INITIALIZER}\")"
   ]
  },
  {
   "cell_type": "code",
   "execution_count": 8,
   "id": "008c642b-1c62-4643-81d6-b6a73942461b",
   "metadata": {},
   "outputs": [
    {
     "name": "stderr",
     "output_type": "stream",
     "text": [
      "2021-12-08 22:28:19.001764: I tensorflow/core/common_runtime/pluggable_device/pluggable_device_factory.cc:305] Could not identify NUMA node of platform GPU ID 0, defaulting to 0. Your kernel may not have been built with NUMA support.\n",
      "2021-12-08 22:28:19.001781: I tensorflow/core/common_runtime/pluggable_device/pluggable_device_factory.cc:271] Created TensorFlow device (/job:localhost/replica:0/task:0/device:GPU:0 with 0 MB memory) -> physical PluggableDevice (device: 0, name: METAL, pci bus id: <undefined>)\n"
     ]
    }
   ],
   "source": [
    "linear_model = tf.keras.models.Sequential()\n",
    "\n",
    "linear_model.add(tf.keras.layers.Flatten())\n",
    "linear_model.add(tf.keras.layers.Dense(IMG_SIZE[0]*IMG_SIZE[1]*IMG_SIZE[2],\n",
    "                                       activation='relu'))\n",
    "linear_model.add(tf.keras.layers.Dense(NUM_CLASSES,\n",
    "                                       activation='softmax'))"
   ]
  },
  {
   "cell_type": "code",
   "execution_count": 9,
   "id": "bedfdca4-6bd4-46f8-8e3d-6f145d679371",
   "metadata": {},
   "outputs": [],
   "source": [
    "linear_model.compile(loss=tf.keras.losses.CategoricalCrossentropy(),\n",
    "                     optimizer=OPTIMIZER,\n",
    "                     metrics=\"accuracy\")"
   ]
  },
  {
   "cell_type": "code",
   "execution_count": 10,
   "id": "6c455402-b151-4c2b-93bf-1ead051f268b",
   "metadata": {},
   "outputs": [
    {
     "name": "stderr",
     "output_type": "stream",
     "text": [
      "2021-12-08 22:28:19.024708: I tensorflow/core/profiler/lib/profiler_session.cc:131] Profiler session initializing.\n",
      "2021-12-08 22:28:19.024715: I tensorflow/core/profiler/lib/profiler_session.cc:146] Profiler session started.\n",
      "2021-12-08 22:28:19.024774: I tensorflow/core/profiler/lib/profiler_session.cc:164] Profiler session tear down.\n"
     ]
    },
    {
     "name": "stdout",
     "output_type": "stream",
     "text": [
      "Epoch 1/100\n",
      "\r",
      "  1/196 [..............................] - ETA: 30s - loss: 2.3666 - accuracy: 0.0820"
     ]
    },
    {
     "name": "stderr",
     "output_type": "stream",
     "text": [
      "2021-12-08 22:28:19.619785: I tensorflow/compiler/mlir/mlir_graph_optimization_pass.cc:185] None of the MLIR Optimization Passes are enabled (registered 2)\n",
      "2021-12-08 22:28:19.619953: W tensorflow/core/platform/profile_utils/cpu_utils.cc:128] Failed to get CPU frequency: 0 Hz\n",
      "2021-12-08 22:28:19.720334: I tensorflow/core/grappler/optimizers/custom_graph_optimizer_registry.cc:112] Plugin optimizer for device_type GPU is enabled.\n",
      "2021-12-08 22:28:19.785642: I tensorflow/core/profiler/lib/profiler_session.cc:131] Profiler session initializing.\n",
      "2021-12-08 22:28:19.785651: I tensorflow/core/profiler/lib/profiler_session.cc:146] Profiler session started.\n",
      "2021-12-08 22:28:19.802780: I tensorflow/core/profiler/lib/profiler_session.cc:66] Profiler session collecting data.\n",
      "2021-12-08 22:28:19.803192: I tensorflow/core/profiler/lib/profiler_session.cc:164] Profiler session tear down.\n",
      "2021-12-08 22:28:19.804382: I tensorflow/core/profiler/rpc/client/save_profile.cc:136] Creating directory: logs/linear/linear_model_ep_100_bs_256_opt_SGD_ki_zeros/train/plugins/profile/2021_12_08_22_28_19\n",
      "\n",
      "2021-12-08 22:28:19.804846: I tensorflow/core/profiler/rpc/client/save_profile.cc:142] Dumped gzipped tool data for trace.json.gz to logs/linear/linear_model_ep_100_bs_256_opt_SGD_ki_zeros/train/plugins/profile/2021_12_08_22_28_19/MacBook-Pro-de-Reda.local.trace.json.gz\n",
      "2021-12-08 22:28:19.805723: I tensorflow/core/profiler/rpc/client/save_profile.cc:136] Creating directory: logs/linear/linear_model_ep_100_bs_256_opt_SGD_ki_zeros/train/plugins/profile/2021_12_08_22_28_19\n",
      "\n",
      "2021-12-08 22:28:19.805994: I tensorflow/core/profiler/rpc/client/save_profile.cc:142] Dumped gzipped tool data for memory_profile.json.gz to logs/linear/linear_model_ep_100_bs_256_opt_SGD_ki_zeros/train/plugins/profile/2021_12_08_22_28_19/MacBook-Pro-de-Reda.local.memory_profile.json.gz\n",
      "2021-12-08 22:28:19.806852: I tensorflow/core/profiler/rpc/client/capture_profile.cc:251] Creating directory: logs/linear/linear_model_ep_100_bs_256_opt_SGD_ki_zeros/train/plugins/profile/2021_12_08_22_28_19\n",
      "Dumped tool data for xplane.pb to logs/linear/linear_model_ep_100_bs_256_opt_SGD_ki_zeros/train/plugins/profile/2021_12_08_22_28_19/MacBook-Pro-de-Reda.local.xplane.pb\n",
      "Dumped tool data for overview_page.pb to logs/linear/linear_model_ep_100_bs_256_opt_SGD_ki_zeros/train/plugins/profile/2021_12_08_22_28_19/MacBook-Pro-de-Reda.local.overview_page.pb\n",
      "Dumped tool data for input_pipeline.pb to logs/linear/linear_model_ep_100_bs_256_opt_SGD_ki_zeros/train/plugins/profile/2021_12_08_22_28_19/MacBook-Pro-de-Reda.local.input_pipeline.pb\n",
      "Dumped tool data for tensorflow_stats.pb to logs/linear/linear_model_ep_100_bs_256_opt_SGD_ki_zeros/train/plugins/profile/2021_12_08_22_28_19/MacBook-Pro-de-Reda.local.tensorflow_stats.pb\n",
      "Dumped tool data for kernel_stats.pb to logs/linear/linear_model_ep_100_bs_256_opt_SGD_ki_zeros/train/plugins/profile/2021_12_08_22_28_19/MacBook-Pro-de-Reda.local.kernel_stats.pb\n",
      "\n"
     ]
    },
    {
     "name": "stdout",
     "output_type": "stream",
     "text": [
      "193/196 [============================>.] - ETA: 0s - loss: 1.9954 - accuracy: 0.2919"
     ]
    },
    {
     "name": "stderr",
     "output_type": "stream",
     "text": [
      "2021-12-08 22:28:22.389505: I tensorflow/core/grappler/optimizers/custom_graph_optimizer_registry.cc:112] Plugin optimizer for device_type GPU is enabled.\n"
     ]
    },
    {
     "name": "stdout",
     "output_type": "stream",
     "text": [
      "196/196 [==============================] - 3s 15ms/step - loss: 1.9936 - accuracy: 0.2925 - val_loss: 1.9084 - val_accuracy: 0.3275\n",
      "Epoch 2/100\n",
      "196/196 [==============================] - 3s 14ms/step - loss: 1.8390 - accuracy: 0.3625 - val_loss: 1.8401 - val_accuracy: 0.3486\n",
      "Epoch 3/100\n",
      "196/196 [==============================] - 3s 14ms/step - loss: 1.7836 - accuracy: 0.3827 - val_loss: 1.8650 - val_accuracy: 0.3178\n",
      "Epoch 4/100\n",
      "196/196 [==============================] - 3s 13ms/step - loss: 1.7504 - accuracy: 0.3930 - val_loss: 1.8486 - val_accuracy: 0.3217\n",
      "Epoch 5/100\n",
      "196/196 [==============================] - 3s 14ms/step - loss: 1.7198 - accuracy: 0.4057 - val_loss: 1.7356 - val_accuracy: 0.3920\n",
      "Epoch 6/100\n",
      "196/196 [==============================] - 3s 13ms/step - loss: 1.6957 - accuracy: 0.4144 - val_loss: 1.7688 - val_accuracy: 0.3717\n",
      "Epoch 7/100\n",
      "196/196 [==============================] - 3s 13ms/step - loss: 1.6751 - accuracy: 0.4230 - val_loss: 1.6923 - val_accuracy: 0.4108\n",
      "Epoch 8/100\n",
      "196/196 [==============================] - 3s 14ms/step - loss: 1.6557 - accuracy: 0.4306 - val_loss: 1.6836 - val_accuracy: 0.4088\n",
      "Epoch 9/100\n",
      "196/196 [==============================] - 3s 14ms/step - loss: 1.6394 - accuracy: 0.4347 - val_loss: 1.6674 - val_accuracy: 0.4103\n",
      "Epoch 10/100\n",
      "196/196 [==============================] - 3s 13ms/step - loss: 1.6224 - accuracy: 0.4417 - val_loss: 1.6540 - val_accuracy: 0.4089\n",
      "Epoch 11/100\n",
      "196/196 [==============================] - 3s 13ms/step - loss: 1.6082 - accuracy: 0.4475 - val_loss: 1.6266 - val_accuracy: 0.4334\n",
      "Epoch 12/100\n",
      "196/196 [==============================] - 3s 13ms/step - loss: 1.5947 - accuracy: 0.4524 - val_loss: 1.6380 - val_accuracy: 0.4275\n",
      "Epoch 13/100\n",
      "196/196 [==============================] - 3s 14ms/step - loss: 1.5803 - accuracy: 0.4576 - val_loss: 1.6271 - val_accuracy: 0.4362\n",
      "Epoch 14/100\n",
      "196/196 [==============================] - 3s 13ms/step - loss: 1.5697 - accuracy: 0.4591 - val_loss: 1.6020 - val_accuracy: 0.4418\n",
      "Epoch 15/100\n",
      "196/196 [==============================] - 3s 14ms/step - loss: 1.5581 - accuracy: 0.4650 - val_loss: 1.6302 - val_accuracy: 0.4244\n",
      "Epoch 16/100\n",
      "196/196 [==============================] - 3s 13ms/step - loss: 1.5464 - accuracy: 0.4673 - val_loss: 1.6252 - val_accuracy: 0.4183\n",
      "Epoch 17/100\n",
      "196/196 [==============================] - 3s 13ms/step - loss: 1.5367 - accuracy: 0.4720 - val_loss: 1.5912 - val_accuracy: 0.4351\n",
      "Epoch 18/100\n",
      "196/196 [==============================] - 3s 13ms/step - loss: 1.5269 - accuracy: 0.4745 - val_loss: 1.5762 - val_accuracy: 0.4475\n",
      "Epoch 19/100\n",
      "196/196 [==============================] - 3s 14ms/step - loss: 1.5185 - accuracy: 0.4765 - val_loss: 1.5742 - val_accuracy: 0.4517\n",
      "Epoch 20/100\n",
      "196/196 [==============================] - 3s 13ms/step - loss: 1.5084 - accuracy: 0.4811 - val_loss: 1.5558 - val_accuracy: 0.4612\n",
      "Epoch 21/100\n",
      "196/196 [==============================] - 3s 13ms/step - loss: 1.4987 - accuracy: 0.4854 - val_loss: 1.5762 - val_accuracy: 0.4373\n",
      "Epoch 22/100\n",
      "196/196 [==============================] - 3s 13ms/step - loss: 1.4908 - accuracy: 0.4882 - val_loss: 1.5620 - val_accuracy: 0.4475\n",
      "Epoch 23/100\n",
      "196/196 [==============================] - 3s 14ms/step - loss: 1.4834 - accuracy: 0.4910 - val_loss: 1.5523 - val_accuracy: 0.4490\n",
      "Epoch 24/100\n",
      "196/196 [==============================] - 3s 13ms/step - loss: 1.4748 - accuracy: 0.4932 - val_loss: 1.5241 - val_accuracy: 0.4634\n",
      "Epoch 25/100\n",
      "196/196 [==============================] - 3s 13ms/step - loss: 1.4672 - accuracy: 0.4977 - val_loss: 1.5572 - val_accuracy: 0.4539\n",
      "Epoch 26/100\n",
      "196/196 [==============================] - 3s 13ms/step - loss: 1.4599 - accuracy: 0.4991 - val_loss: 1.5121 - val_accuracy: 0.4694\n",
      "Epoch 27/100\n",
      "196/196 [==============================] - 3s 13ms/step - loss: 1.4528 - accuracy: 0.5009 - val_loss: 1.5008 - val_accuracy: 0.4777\n",
      "Epoch 28/100\n",
      "196/196 [==============================] - 3s 13ms/step - loss: 1.4445 - accuracy: 0.5047 - val_loss: 1.5187 - val_accuracy: 0.4774\n",
      "Epoch 29/100\n",
      "196/196 [==============================] - 3s 14ms/step - loss: 1.4381 - accuracy: 0.5074 - val_loss: 1.4989 - val_accuracy: 0.4743\n",
      "Epoch 30/100\n",
      "196/196 [==============================] - 3s 14ms/step - loss: 1.4313 - accuracy: 0.5103 - val_loss: 1.5311 - val_accuracy: 0.4597\n",
      "Epoch 31/100\n",
      "196/196 [==============================] - 3s 13ms/step - loss: 1.4244 - accuracy: 0.5120 - val_loss: 1.5071 - val_accuracy: 0.4676\n",
      "Epoch 32/100\n",
      "196/196 [==============================] - 3s 13ms/step - loss: 1.4180 - accuracy: 0.5140 - val_loss: 1.4839 - val_accuracy: 0.4813\n",
      "Epoch 33/100\n",
      "196/196 [==============================] - 3s 13ms/step - loss: 1.4122 - accuracy: 0.5179 - val_loss: 1.4784 - val_accuracy: 0.4890\n",
      "Epoch 34/100\n",
      "196/196 [==============================] - 3s 13ms/step - loss: 1.4064 - accuracy: 0.5182 - val_loss: 1.5171 - val_accuracy: 0.4590\n",
      "Epoch 35/100\n",
      "196/196 [==============================] - 3s 13ms/step - loss: 1.3993 - accuracy: 0.5204 - val_loss: 1.5229 - val_accuracy: 0.4543\n",
      "Epoch 36/100\n",
      "196/196 [==============================] - 3s 13ms/step - loss: 1.3933 - accuracy: 0.5232 - val_loss: 1.4698 - val_accuracy: 0.4826\n",
      "Epoch 37/100\n",
      "196/196 [==============================] - 3s 13ms/step - loss: 1.3853 - accuracy: 0.5270 - val_loss: 1.4701 - val_accuracy: 0.4810\n",
      "Epoch 38/100\n",
      "196/196 [==============================] - 3s 13ms/step - loss: 1.3818 - accuracy: 0.5273 - val_loss: 1.5210 - val_accuracy: 0.4649\n",
      "Epoch 39/100\n",
      "196/196 [==============================] - 3s 13ms/step - loss: 1.3742 - accuracy: 0.5305 - val_loss: 1.4800 - val_accuracy: 0.4713\n",
      "Epoch 40/100\n",
      "196/196 [==============================] - 3s 13ms/step - loss: 1.3689 - accuracy: 0.5329 - val_loss: 1.4535 - val_accuracy: 0.4830\n",
      "Epoch 41/100\n",
      "196/196 [==============================] - 3s 13ms/step - loss: 1.3626 - accuracy: 0.5345 - val_loss: 1.4864 - val_accuracy: 0.4747\n",
      "Epoch 42/100\n",
      "196/196 [==============================] - 3s 13ms/step - loss: 1.3567 - accuracy: 0.5371 - val_loss: 1.4949 - val_accuracy: 0.4690\n",
      "Epoch 43/100\n",
      "196/196 [==============================] - 3s 13ms/step - loss: 1.3520 - accuracy: 0.5381 - val_loss: 1.4839 - val_accuracy: 0.4738\n",
      "Epoch 44/100\n",
      "196/196 [==============================] - 3s 13ms/step - loss: 1.3445 - accuracy: 0.5412 - val_loss: 1.4484 - val_accuracy: 0.4901\n",
      "Epoch 45/100\n",
      "196/196 [==============================] - 3s 13ms/step - loss: 1.3402 - accuracy: 0.5417 - val_loss: 1.4584 - val_accuracy: 0.4847\n",
      "Epoch 46/100\n",
      "196/196 [==============================] - 3s 13ms/step - loss: 1.3356 - accuracy: 0.5436 - val_loss: 1.4670 - val_accuracy: 0.4798\n",
      "Epoch 47/100\n",
      "196/196 [==============================] - 3s 13ms/step - loss: 1.3304 - accuracy: 0.5446 - val_loss: 1.4380 - val_accuracy: 0.4958\n",
      "Epoch 48/100\n",
      "196/196 [==============================] - 3s 13ms/step - loss: 1.3252 - accuracy: 0.5478 - val_loss: 1.4520 - val_accuracy: 0.4763\n",
      "Epoch 49/100\n",
      "196/196 [==============================] - 3s 13ms/step - loss: 1.3197 - accuracy: 0.5499 - val_loss: 1.4190 - val_accuracy: 0.4982\n",
      "Epoch 50/100\n",
      "196/196 [==============================] - 3s 13ms/step - loss: 1.3149 - accuracy: 0.5516 - val_loss: 1.4209 - val_accuracy: 0.4974\n",
      "Epoch 51/100\n",
      "196/196 [==============================] - 3s 13ms/step - loss: 1.3095 - accuracy: 0.5540 - val_loss: 1.4639 - val_accuracy: 0.4848\n",
      "Epoch 52/100\n",
      "196/196 [==============================] - 3s 13ms/step - loss: 1.3037 - accuracy: 0.5564 - val_loss: 1.4752 - val_accuracy: 0.4777\n",
      "Epoch 53/100\n",
      "196/196 [==============================] - 3s 13ms/step - loss: 1.2986 - accuracy: 0.5573 - val_loss: 1.4688 - val_accuracy: 0.4859\n",
      "Epoch 54/100\n",
      "196/196 [==============================] - 3s 13ms/step - loss: 1.2944 - accuracy: 0.5585 - val_loss: 1.4273 - val_accuracy: 0.4949\n",
      "Epoch 55/100\n",
      "196/196 [==============================] - 3s 13ms/step - loss: 1.2885 - accuracy: 0.5628 - val_loss: 1.3978 - val_accuracy: 0.5115\n",
      "Epoch 56/100\n",
      "196/196 [==============================] - 3s 14ms/step - loss: 1.2843 - accuracy: 0.5644 - val_loss: 1.4654 - val_accuracy: 0.4730\n",
      "Epoch 57/100\n"
     ]
    },
    {
     "name": "stdout",
     "output_type": "stream",
     "text": [
      "196/196 [==============================] - 3s 14ms/step - loss: 1.2796 - accuracy: 0.5649 - val_loss: 1.4093 - val_accuracy: 0.5092\n",
      "Epoch 58/100\n",
      "196/196 [==============================] - 3s 14ms/step - loss: 1.2747 - accuracy: 0.5666 - val_loss: 1.4094 - val_accuracy: 0.5045\n",
      "Epoch 59/100\n",
      "196/196 [==============================] - 3s 13ms/step - loss: 1.2699 - accuracy: 0.5673 - val_loss: 1.4114 - val_accuracy: 0.4945\n",
      "Epoch 60/100\n",
      "196/196 [==============================] - 3s 13ms/step - loss: 1.2661 - accuracy: 0.5702 - val_loss: 1.4204 - val_accuracy: 0.4901\n",
      "Epoch 61/100\n",
      "196/196 [==============================] - 3s 13ms/step - loss: 1.2587 - accuracy: 0.5728 - val_loss: 1.4136 - val_accuracy: 0.4988\n",
      "Epoch 62/100\n",
      "196/196 [==============================] - 3s 13ms/step - loss: 1.2563 - accuracy: 0.5731 - val_loss: 1.4055 - val_accuracy: 0.5092\n",
      "Epoch 63/100\n",
      "196/196 [==============================] - 3s 14ms/step - loss: 1.2511 - accuracy: 0.5759 - val_loss: 1.4021 - val_accuracy: 0.5046\n",
      "Epoch 64/100\n",
      "196/196 [==============================] - 3s 14ms/step - loss: 1.2479 - accuracy: 0.5734 - val_loss: 1.4086 - val_accuracy: 0.5037\n",
      "Epoch 65/100\n",
      "196/196 [==============================] - 3s 14ms/step - loss: 1.2423 - accuracy: 0.5788 - val_loss: 1.4183 - val_accuracy: 0.5030\n",
      "Epoch 66/100\n",
      "196/196 [==============================] - 3s 14ms/step - loss: 1.2401 - accuracy: 0.5786 - val_loss: 1.4063 - val_accuracy: 0.4982\n",
      "Epoch 67/100\n",
      "196/196 [==============================] - 3s 14ms/step - loss: 1.2355 - accuracy: 0.5814 - val_loss: 1.4074 - val_accuracy: 0.5023\n",
      "Epoch 68/100\n",
      "196/196 [==============================] - 3s 14ms/step - loss: 1.2301 - accuracy: 0.5816 - val_loss: 1.4311 - val_accuracy: 0.4871\n",
      "Epoch 69/100\n",
      "196/196 [==============================] - 3s 14ms/step - loss: 1.2245 - accuracy: 0.5843 - val_loss: 1.3910 - val_accuracy: 0.5111\n",
      "Epoch 70/100\n",
      "196/196 [==============================] - 3s 13ms/step - loss: 1.2222 - accuracy: 0.5849 - val_loss: 1.3876 - val_accuracy: 0.5114\n",
      "Epoch 71/100\n",
      "196/196 [==============================] - 3s 13ms/step - loss: 1.2191 - accuracy: 0.5861 - val_loss: 1.3770 - val_accuracy: 0.5159\n",
      "Epoch 72/100\n",
      "196/196 [==============================] - 3s 14ms/step - loss: 1.2160 - accuracy: 0.5875 - val_loss: 1.3913 - val_accuracy: 0.5063\n",
      "Epoch 73/100\n",
      "196/196 [==============================] - 3s 14ms/step - loss: 1.2105 - accuracy: 0.5872 - val_loss: 1.3488 - val_accuracy: 0.5284\n",
      "Epoch 74/100\n",
      "196/196 [==============================] - 3s 14ms/step - loss: 1.2056 - accuracy: 0.5931 - val_loss: 1.4240 - val_accuracy: 0.5073\n",
      "Epoch 75/100\n",
      "196/196 [==============================] - 3s 14ms/step - loss: 1.1990 - accuracy: 0.5925 - val_loss: 1.3823 - val_accuracy: 0.5154\n",
      "Epoch 76/100\n",
      "196/196 [==============================] - 3s 14ms/step - loss: 1.1990 - accuracy: 0.5926 - val_loss: 1.4426 - val_accuracy: 0.4850\n",
      "Epoch 77/100\n",
      "196/196 [==============================] - 3s 14ms/step - loss: 1.1955 - accuracy: 0.5943 - val_loss: 1.3721 - val_accuracy: 0.5200\n",
      "Epoch 78/100\n",
      "196/196 [==============================] - 3s 14ms/step - loss: 1.1905 - accuracy: 0.5967 - val_loss: 1.3739 - val_accuracy: 0.5150\n",
      "Epoch 79/100\n",
      "196/196 [==============================] - 3s 14ms/step - loss: 1.1873 - accuracy: 0.5971 - val_loss: 1.4086 - val_accuracy: 0.5065\n",
      "Epoch 80/100\n",
      "196/196 [==============================] - 3s 14ms/step - loss: 1.1809 - accuracy: 0.6021 - val_loss: 1.3709 - val_accuracy: 0.5175\n",
      "Epoch 81/100\n",
      "196/196 [==============================] - 3s 14ms/step - loss: 1.1811 - accuracy: 0.5996 - val_loss: 1.3650 - val_accuracy: 0.5195\n",
      "Epoch 82/100\n",
      "196/196 [==============================] - 3s 14ms/step - loss: 1.1769 - accuracy: 0.6005 - val_loss: 1.4153 - val_accuracy: 0.5022\n",
      "Epoch 83/100\n",
      "196/196 [==============================] - 3s 14ms/step - loss: 1.1702 - accuracy: 0.6049 - val_loss: 1.3513 - val_accuracy: 0.5220\n",
      "Epoch 84/100\n",
      "196/196 [==============================] - 3s 14ms/step - loss: 1.1666 - accuracy: 0.6057 - val_loss: 1.3812 - val_accuracy: 0.5066\n",
      "Epoch 85/100\n",
      "196/196 [==============================] - 3s 14ms/step - loss: 1.1619 - accuracy: 0.6078 - val_loss: 1.3866 - val_accuracy: 0.5028\n",
      "Epoch 86/100\n",
      "196/196 [==============================] - 3s 15ms/step - loss: 1.1581 - accuracy: 0.6084 - val_loss: 1.4051 - val_accuracy: 0.5017\n",
      "Epoch 87/100\n",
      "196/196 [==============================] - 3s 14ms/step - loss: 1.1568 - accuracy: 0.6091 - val_loss: 1.3642 - val_accuracy: 0.5167\n",
      "Epoch 88/100\n",
      "196/196 [==============================] - 3s 14ms/step - loss: 1.1508 - accuracy: 0.6107 - val_loss: 1.3917 - val_accuracy: 0.5065\n",
      "Epoch 89/100\n",
      "196/196 [==============================] - 3s 15ms/step - loss: 1.1519 - accuracy: 0.6127 - val_loss: 1.3933 - val_accuracy: 0.5067\n",
      "Epoch 90/100\n",
      "196/196 [==============================] - 3s 14ms/step - loss: 1.1440 - accuracy: 0.6143 - val_loss: 1.3744 - val_accuracy: 0.5095\n",
      "Epoch 91/100\n",
      "196/196 [==============================] - 3s 14ms/step - loss: 1.1421 - accuracy: 0.6142 - val_loss: 1.3883 - val_accuracy: 0.5168\n",
      "Epoch 92/100\n",
      "196/196 [==============================] - 3s 14ms/step - loss: 1.1366 - accuracy: 0.6159 - val_loss: 1.3237 - val_accuracy: 0.5367\n",
      "Epoch 93/100\n",
      "196/196 [==============================] - 3s 14ms/step - loss: 1.1365 - accuracy: 0.6165 - val_loss: 1.4587 - val_accuracy: 0.4734\n",
      "Epoch 94/100\n",
      "196/196 [==============================] - 3s 14ms/step - loss: 1.1289 - accuracy: 0.6188 - val_loss: 1.4257 - val_accuracy: 0.4999\n",
      "Epoch 95/100\n",
      "196/196 [==============================] - 3s 13ms/step - loss: 1.1278 - accuracy: 0.6197 - val_loss: 1.5083 - val_accuracy: 0.4708\n",
      "Epoch 96/100\n",
      "196/196 [==============================] - 3s 14ms/step - loss: 1.1236 - accuracy: 0.6196 - val_loss: 1.4201 - val_accuracy: 0.4950\n",
      "Epoch 97/100\n",
      "196/196 [==============================] - 3s 14ms/step - loss: 1.1196 - accuracy: 0.6222 - val_loss: 1.4023 - val_accuracy: 0.5041\n",
      "Epoch 98/100\n",
      "196/196 [==============================] - 3s 14ms/step - loss: 1.1168 - accuracy: 0.6223 - val_loss: 1.3440 - val_accuracy: 0.5273\n",
      "Epoch 99/100\n",
      "196/196 [==============================] - 3s 14ms/step - loss: 1.1123 - accuracy: 0.6245 - val_loss: 1.3669 - val_accuracy: 0.5123\n",
      "Epoch 100/100\n",
      "196/196 [==============================] - 3s 14ms/step - loss: 1.1097 - accuracy: 0.6260 - val_loss: 1.3499 - val_accuracy: 0.5267\n"
     ]
    },
    {
     "data": {
      "text/plain": [
       "<keras.callbacks.History at 0x290bed160>"
      ]
     },
     "execution_count": 10,
     "metadata": {},
     "output_type": "execute_result"
    }
   ],
   "source": [
    "linear_model.fit(x_train,\n",
    "                 y_train,\n",
    "                 batch_size=BATCH_SIZE,\n",
    "                 epochs=EPOCHS,\n",
    "                 validation_data=(x_test, y_test),\n",
    "                 shuffle=SHUFFLE,\n",
    "                 callbacks=[tf.keras.callbacks.TensorBoard(LINEAR_LOG, histogram_freq=1)])"
   ]
  },
  {
   "cell_type": "code",
   "execution_count": 11,
   "id": "6370d279-bc7a-470f-a1e7-c35d9a9773dc",
   "metadata": {},
   "outputs": [
    {
     "name": "stdout",
     "output_type": "stream",
     "text": [
      "313/313 [==============================] - 2s 5ms/step - loss: 1.3499 - accuracy: 0.5267\n",
      "Test loss: 1.3499287366867065\n",
      "Test accuracy: 0.5267000198364258\n"
     ]
    }
   ],
   "source": [
    "scores = linear_model.evaluate(x_test, y_test, verbose=1)\n",
    "print('Test loss:', scores[0])\n",
    "print('Test accuracy:', scores[1])"
   ]
  },
  {
   "cell_type": "code",
   "execution_count": 12,
   "id": "fa0e1361-4dcb-4294-81f2-08b1a10cee91",
   "metadata": {},
   "outputs": [],
   "source": [
    "# Ajouter une matrice de correlation"
   ]
  },
  {
   "cell_type": "markdown",
   "id": "68442913-a7c8-4c79-873a-b009912ba59b",
   "metadata": {},
   "source": [
    "## MLP"
   ]
  },
  {
   "cell_type": "markdown",
   "id": "b553de06",
   "metadata": {},
   "source": [
    "Hyperparameter tuning using Tensorflow and Tensorboard : https://www.tensorflow.org/tensorboard/hyperparameter_tuning_with_hparams"
   ]
  },
  {
   "cell_type": "code",
   "execution_count": null,
   "id": "7fe8d4f3-d9d4-4c57-82a4-ae294152fe1d",
   "metadata": {},
   "outputs": [],
   "source": [
    "OPTIMIZER = tf.keras.optimizers.SGD()\n",
    "BATCH_SIZE = 256\n",
    "EPOCHS = 100\n",
    "SHUFFLE = True\n",
    "MLP_LOG = os.path.join(LOG_DIR, \"mlp\",\n",
    "                       f\"mlp_ep_{EPOCHS}_bs_{BATCH_SIZE}_opt_{type(OPTIMIZER).__name__}\")"
   ]
  },
  {
   "cell_type": "code",
   "execution_count": null,
   "id": "2a570796-24ee-45a3-9417-3e502624b586",
   "metadata": {},
   "outputs": [],
   "source": [
    "mlp = tf.keras.models.Sequential()\n",
    "\n",
    "mlp.add(tf.keras.layers.Flatten())\n",
    "mlp.add(tf.keras.layers.Dense(NUM_CLASSES,\n",
    "                              input_shape=(IMG_SIZE[0]*IMG_SIZE[1]*IMG_SIZE[2],),\n",
    "                              activation='softmax'))"
   ]
  }
 ],
 "metadata": {
  "kernelspec": {
   "display_name": "Python 3 (ipykernel)",
   "language": "python",
   "name": "python3"
  },
  "language_info": {
   "codemirror_mode": {
    "name": "ipython",
    "version": 3
   },
   "file_extension": ".py",
   "mimetype": "text/x-python",
   "name": "python",
   "nbconvert_exporter": "python",
   "pygments_lexer": "ipython3",
   "version": "3.9.5"
  }
 },
 "nbformat": 4,
 "nbformat_minor": 5
}
