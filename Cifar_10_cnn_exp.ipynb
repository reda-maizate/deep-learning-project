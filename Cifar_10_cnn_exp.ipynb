{
 "cells": [
  {
   "cell_type": "markdown",
   "id": "4df51659",
   "metadata": {},
   "source": [
    "**ConvNets**"
   ]
  },
  {
   "cell_type": "markdown",
   "id": "abc12603",
   "metadata": {},
   "source": [
    "Le principe d'utilisation d'un ConvNets reste les données a multiples dimensions.\n",
    "Dans notre cas les données sont des images c-à-d des données à deux dimensions \n",
    "Le convnets est le réseau qui s'adapte le mieux aux images puisque celui-ci s'inspire du cortex visuel\n",
    "Comme tout réseau la topologie est importante \n",
    "On a pas chercher ici à prendre le meilleur réseau puisque l'idée d'un réseau est de l'optimiser et le but est de comprendre comment les hyperparamètres peuvent changer un réseau et ses résultats"
   ]
  },
  {
   "cell_type": "markdown",
   "id": "4bd39456",
   "metadata": {},
   "source": [
    "Ici on à crée un réseau initiale et ce réseau va nous servir de base dans notre étude et en voici les paramètres : \n",
    "Les paramètres et le réseau choisis sont empirique et constitue une base d'étude \n",
    "    \n",
    "NUM_LAYERS = list(range(3, 6))\n",
    "BATCH_SIZE = 512\n",
    "EPOCHS = 300\n",
    "SHUFFLE = True\n",
    "learning_rates = 0.001\n",
    "momentums = 0.9"
   ]
  },
  {
   "cell_type": "markdown",
   "id": "2ec186bc",
   "metadata": {},
   "source": [
    "# Ajouter image réseau"
   ]
  },
  {
   "cell_type": "markdown",
   "id": "efea0fd8",
   "metadata": {},
   "source": [
    "### Caractéristique de comparaison \n",
    "\n",
    "- Surapptentissage ou non\n",
    "- Allure de la courbe\n",
    "- Vitesse d'apprentissage"
   ]
  },
  {
   "cell_type": "markdown",
   "id": "aadeea29",
   "metadata": {},
   "source": [
    "## Max pooling vs Average pooling"
   ]
  },
  {
   "attachments": {},
   "cell_type": "markdown",
   "id": "47d6a20a",
   "metadata": {},
   "source": [
    "Nous allons comparer deux type de couche utilisés dans les convnet : le max pooling et l'average pooling\n",
    "la courbes du dessus est celle du max pooling et celle d'en dessous est celle de l'avg pooling\n",
    "\n",
    "Lorsque l'on regarde l'aprentissage des deux réseaux on remarque que les deux courbes sont similaires dans leur stabilité et ne présente aucune tendance au surapprentissage.\n",
    "Néanmoins on peut remarque la différence qui s'opère lorsque que l'apprentissage arrive dans la phase de plateau avec respectivement avec 0.45 et 0.35 pour le max et l'avg.\n",
    "Pour un même réseau l'utilisation des deux couches présentent un différence sur la vitesse et la qualité(en terme d'accuracy) de l'apprentissage. \n",
    "> Comment peut on expliquer cette différence : que se passe t-il dans les couches ?\n",
    "Max pooling prend la valeur maximum de la portion d'image couverte par le kernel et Avg pooling sa valeur moyenne. La différence se tient ici. Etant donne que les valeurs prisent ne sont pas les mêmes alors la capacité à capturer l'information va changer aussi. Les caractéristiques des deux layers vont drastiquement influer sur les résultats."
   ]
  },
  {
   "cell_type": "markdown",
   "id": "32f78915",
   "metadata": {},
   "source": [
    "## Séquential vs Fonctionnal "
   ]
  },
  {
   "cell_type": "markdown",
   "id": "b725a1f4",
   "metadata": {},
   "source": [
    "## Padding = same vs Padding = valid "
   ]
  },
  {
   "cell_type": "markdown",
   "id": "1041c4db",
   "metadata": {},
   "source": []
  },
  {
   "cell_type": "markdown",
   "id": "3edb20db",
   "metadata": {},
   "source": [
    "## Fonction d'activation tanh relu sigmoid"
   ]
  },
  {
   "cell_type": "markdown",
   "id": "b795714c",
   "metadata": {},
   "source": [
    "## Optimizer SGD ADAM RMSprop"
   ]
  }
 ],
 "metadata": {
  "kernelspec": {
   "display_name": "Python 3 (ipykernel)",
   "language": "python",
   "name": "python3"
  },
  "language_info": {
   "codemirror_mode": {
    "name": "ipython",
    "version": 3
   },
   "file_extension": ".py",
   "mimetype": "text/x-python",
   "name": "python",
   "nbconvert_exporter": "python",
   "pygments_lexer": "ipython3",
   "version": "3.8.10"
  }
 },
 "nbformat": 4,
 "nbformat_minor": 5
}
