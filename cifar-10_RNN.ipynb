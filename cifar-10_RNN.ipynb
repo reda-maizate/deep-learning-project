{
 "cells": [
  {
   "cell_type": "markdown",
   "id": "b1cda1df",
   "metadata": {},
   "source": [
    "# CIFAR-10 (RNN)"
   ]
  },
  {
   "cell_type": "code",
   "execution_count": 2,
   "id": "3742287e",
   "metadata": {},
   "outputs": [],
   "source": [
    "import os\n",
    "import numpy as np\n",
    "from numpy.random import seed\n",
    "import tensorflow as tf\n",
    "from tensorflow.keras.layers import Flatten, Dense, Input, RNN, SimpleRNN, Embedding\n",
    "from tensorflow.keras.losses import categorical_crossentropy\n",
    "from tensorflow.keras.metrics import categorical_accuracy\n",
    "from tensorflow.keras.optimizers import SGD\n",
    "from tensorflow.keras.activations import relu, softmax, tanh\n",
    "from tensorflow.keras.initializers import he_normal, glorot_uniform\n",
    "from tensorflow.keras.utils import to_categorical\n",
    "from tensorflow.keras.datasets import cifar10\n",
    "from tensorflow.keras.callbacks import TensorBoard\n",
    "from tensorflow.keras.models import Model, load_model\n",
    "from tensorflow.keras.regularizers import l2, l1, l1_l2\n",
    "from tensorflow.random import set_seed"
   ]
  },
  {
   "cell_type": "code",
   "execution_count": 3,
   "id": "bb04a5ed",
   "metadata": {},
   "outputs": [
    {
     "name": "stdout",
     "output_type": "stream",
     "text": [
      "Version de TensorFlow : 2.6.0\n",
      "Nom du GPU :Metal device set to: Apple M1\n",
      " /device:GPU:0\n"
     ]
    },
    {
     "name": "stderr",
     "output_type": "stream",
     "text": [
      "2022-01-02 00:01:09.371788: I tensorflow/core/common_runtime/pluggable_device/pluggable_device_factory.cc:305] Could not identify NUMA node of platform GPU ID 0, defaulting to 0. Your kernel may not have been built with NUMA support.\n",
      "2022-01-02 00:01:09.371871: I tensorflow/core/common_runtime/pluggable_device/pluggable_device_factory.cc:271] Created TensorFlow device (/device:GPU:0 with 0 MB memory) -> physical PluggableDevice (device: 0, name: METAL, pci bus id: <undefined>)\n"
     ]
    }
   ],
   "source": [
    "print(\"Version de TensorFlow :\", tf.__version__)\n",
    "print(\"Nom du GPU :\", tf.test.gpu_device_name())\n",
    "\n",
    "tf.keras.backend.clear_session()\n",
    "tf.config.optimizer.set_jit(False)"
   ]
  },
  {
   "cell_type": "markdown",
   "id": "439c2a09",
   "metadata": {},
   "source": [
    "## Importation du dataset"
   ]
  },
  {
   "cell_type": "code",
   "execution_count": 4,
   "id": "a315c256",
   "metadata": {},
   "outputs": [],
   "source": [
    "(x_train, y_train), (x_test, y_test) = cifar10.load_data()"
   ]
  },
  {
   "cell_type": "code",
   "execution_count": 5,
   "id": "230b7133",
   "metadata": {},
   "outputs": [],
   "source": [
    "NUM_CLASSES = 10\n",
    "IMG_SIZE = x_train[0].shape"
   ]
  },
  {
   "cell_type": "code",
   "execution_count": 6,
   "id": "ff20cd03",
   "metadata": {},
   "outputs": [],
   "source": [
    "x_train = to_categorical(x_train.astype('float32') / 256)\n",
    "x_test = to_categorical(x_test.astype('float32') / 256)\n",
    "\n",
    "y_train = to_categorical(y_train, num_classes=NUM_CLASSES)\n",
    "y_test = to_categorical(y_test, num_classes=NUM_CLASSES)"
   ]
  },
  {
   "cell_type": "code",
   "execution_count": 7,
   "id": "60731850",
   "metadata": {},
   "outputs": [],
   "source": [
    "LOG_DIR = os.path.join(\"logs\")\n",
    "MODEL_DIR = os.path.join(\"models\")"
   ]
  },
  {
   "cell_type": "markdown",
   "id": "b8424c73",
   "metadata": {},
   "source": [
    "## Fixer les seeds"
   ]
  },
  {
   "cell_type": "code",
   "execution_count": 8,
   "id": "ae314e71",
   "metadata": {},
   "outputs": [],
   "source": [
    "set_seed(42) # TensorFlow\n",
    "seed(42) # NumPy"
   ]
  },
  {
   "cell_type": "markdown",
   "id": "0bc64c79",
   "metadata": {},
   "source": [
    "---"
   ]
  },
  {
   "cell_type": "markdown",
   "id": "20fd682c",
   "metadata": {},
   "source": [
    "# RNN"
   ]
  },
  {
   "cell_type": "markdown",
   "id": "23c279e1",
   "metadata": {},
   "source": [
    "![RNN](https://ichi.pro/assets/images/max/724/1*go8PHsPNbbV6qRiwpUQ5BQ.png)"
   ]
  },
  {
   "cell_type": "markdown",
   "id": "c8794027",
   "metadata": {},
   "source": [
    "Voici à quoi ressemble un RNN (Reccurent Neural Network). La particularité du RNN est qu'il s'appelle lui-même"
   ]
  },
  {
   "cell_type": "markdown",
   "id": "da76da68",
   "metadata": {},
   "source": [
    "Pour voir l'influence des hyperparamètres sur un RNN, nous avons d'abord besoin de fixer le nombre d'époques et le nombre de layer sur notre couche de sortie."
   ]
  },
  {
   "cell_type": "code",
   "execution_count": 9,
   "id": "8573c34f",
   "metadata": {},
   "outputs": [],
   "source": [
    "EPOCHS = 1000\n",
    "SHUFFLE = True\n",
    "NUM_CLASSES = 10"
   ]
  },
  {
   "cell_type": "markdown",
   "id": "21c876ba",
   "metadata": {},
   "source": [
    "Ce modèle n'a pas était vu en cours, du coup, nous allons nous faciliter la tâche, nous allons créer un modèle principal appelé main puis nous allons tester un ou plusieurs hyperparamètres à la fois pour que l'on puisse aperçevoir leur(s) influence sur le modèle."
   ]
  },
  {
   "cell_type": "markdown",
   "id": "d42f7628",
   "metadata": {},
   "source": [
    "## Modèle main\n",
    "\n",
    "Le modèle main est notre modèle principale, ce sera celui avec lequelle nous comparerons tout les autres prochains modèles et essayer de distinguer le plus clairement possible l'influence des hyperparamètres que nous modifierons. Nous avons choisi les hyperparamètres par défaut lorsque c'était possible et avons choisi le reste selon notre intuition."
   ]
  },
  {
   "cell_type": "code",
   "execution_count": 10,
   "id": "e768e555",
   "metadata": {},
   "outputs": [],
   "source": [
    "def RNN_main(num_units):\n",
    "    input_layer = Input(shape=(32, 32, 3))\n",
    "    hidden_layer = Flatten()(input_layer)\n",
    "    hidden_layer = Embedding(32, 32)(hidden_layer)\n",
    "    hidden_layer = SimpleRNN(num_units)(hidden_layer)\n",
    "    output_layer = Dense(NUM_CLASSES, activation=softmax)(hidden_layer)\n",
    "    return Model(input_layer, output_layer)"
   ]
  },
  {
   "cell_type": "markdown",
   "id": "b05ba8d1",
   "metadata": {},
   "source": [
    "Voici les hyperparamètres de notre modèle :"
   ]
  },
  {
   "cell_type": "code",
   "execution_count": 11,
   "id": "7ab1172a",
   "metadata": {},
   "outputs": [],
   "source": [
    "batch_size = 32\n",
    "num_units = 4\n",
    "learning_rate = 0.01\n",
    "momentum = 0"
   ]
  },
  {
   "cell_type": "markdown",
   "id": "ff6d5627",
   "metadata": {},
   "source": [
    "Tout au long de notre section sur le RNN, nous n'utiliserons comme optimiseur uniquement Stochastic Gradient Descent (SGD). Nous pouvons désormais instancier et entraîner notre modèle."
   ]
  },
  {
   "cell_type": "code",
   "execution_count": null,
   "id": "ea0ebc09",
   "metadata": {},
   "outputs": [
    {
     "name": "stdout",
     "output_type": "stream",
     "text": [
      "Model: \"model_1\"\n",
      "_________________________________________________________________\n",
      "Layer (type)                 Output Shape              Param #   \n",
      "=================================================================\n",
      "input_2 (InputLayer)         [(None, 32, 32, 3)]       0         \n",
      "_________________________________________________________________\n",
      "flatten_1 (Flatten)          (None, 3072)              0         \n",
      "_________________________________________________________________\n",
      "embedding_1 (Embedding)      (None, 3072, 32)          1024      \n",
      "_________________________________________________________________\n",
      "simple_rnn_1 (SimpleRNN)     (None, 4)                 148       \n",
      "_________________________________________________________________\n",
      "dense_1 (Dense)              (None, 10)                50        \n",
      "=================================================================\n",
      "Total params: 1,222\n",
      "Trainable params: 1,222\n",
      "Non-trainable params: 0\n",
      "_________________________________________________________________\n",
      "None\n"
     ]
    },
    {
     "name": "stderr",
     "output_type": "stream",
     "text": [
      "2022-01-02 00:02:18.874926: I tensorflow/core/profiler/lib/profiler_session.cc:131] Profiler session initializing.\n",
      "2022-01-02 00:02:18.874937: I tensorflow/core/profiler/lib/profiler_session.cc:146] Profiler session started.\n",
      "2022-01-02 00:02:18.875087: I tensorflow/core/profiler/lib/profiler_session.cc:164] Profiler session tear down.\n",
      "2022-01-02 00:02:19.138742: I tensorflow/compiler/mlir/mlir_graph_optimization_pass.cc:185] None of the MLIR Optimization Passes are enabled (registered 2)\n",
      "2022-01-02 00:02:19.138947: W tensorflow/core/platform/profile_utils/cpu_utils.cc:128] Failed to get CPU frequency: 0 Hz\n",
      "2022-01-02 00:02:19.315940: I tensorflow/core/grappler/optimizers/custom_graph_optimizer_registry.cc:112] Plugin optimizer for device_type GPU is enabled.\n"
     ]
    },
    {
     "name": "stdout",
     "output_type": "stream",
     "text": [
      "Epoch 1/1000\n"
     ]
    }
   ],
   "source": [
    "rnn = RNN_main(num_units)\n",
    "print(rnn.summary())\n",
    "\n",
    "rnn.compile(\n",
    "    loss=categorical_crossentropy,\n",
    "    optimizer=SGD(learning_rate=learning_rate, momentum=momentum),\n",
    "    metrics=categorical_accuracy\n",
    "           )\n",
    "\n",
    "RNN_LOG = os.path.join(LOG_DIR, \"rnn\",\n",
    "                f\"ep_{EPOCHS}_bs_{batch_size}_opt_SGD_lr_{learning_rate}_mom_{momentum}_af_tanh_units_{num_units}_main\")\n",
    "\n",
    "RNN_MODEL = os.path.join(MODEL_DIR, \"rnn\",\n",
    "                f\"ep_{EPOCHS}_bs_{batch_size}_opt_SGD_lr_{learning_rate}_mom_{momentum}_af_tanh_units_{num_units}_main.keras\")\n",
    "\n",
    "rnn.fit(x_train, y_train,\n",
    "        batch_size=batch_size,\n",
    "        epochs=EPOCHS,\n",
    "        validation_data=(x_test, y_test),\n",
    "        shuffle=SHUFFLE,\n",
    "        callbacks=[TensorBoard(RNN_LOG)]\n",
    "       )\n",
    "rnn.save(RNN_MODEL)\n"
   ]
  },
  {
   "cell_type": "code",
   "execution_count": null,
   "id": "0c01c386",
   "metadata": {},
   "outputs": [],
   "source": []
  },
  {
   "cell_type": "code",
   "execution_count": null,
   "id": "6ba1465c",
   "metadata": {},
   "outputs": [],
   "source": []
  }
 ],
 "metadata": {
  "kernelspec": {
   "display_name": "Python 3 (ipykernel)",
   "language": "python",
   "name": "python3"
  },
  "language_info": {
   "codemirror_mode": {
    "name": "ipython",
    "version": 3
   },
   "file_extension": ".py",
   "mimetype": "text/x-python",
   "name": "python",
   "nbconvert_exporter": "python",
   "pygments_lexer": "ipython3",
   "version": "3.9.5"
  }
 },
 "nbformat": 4,
 "nbformat_minor": 5
}
