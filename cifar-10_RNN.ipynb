{
 "cells": [
  {
   "cell_type": "markdown",
   "id": "b1cda1df",
   "metadata": {},
   "source": [
    "# CIFAR-10 (RNN)"
   ]
  },
  {
   "cell_type": "code",
   "execution_count": 1,
   "id": "3742287e",
   "metadata": {},
   "outputs": [],
   "source": [
    "import os\n",
    "import numpy as np\n",
    "from numpy.random import seed\n",
    "import tensorflow as tf\n",
    "from tensorflow.keras.layers import Flatten, Dense, Input, RNN, SimpleRNN\n",
    "from tensorflow.keras.losses import categorical_crossentropy\n",
    "from tensorflow.keras.metrics import categorical_accuracy\n",
    "from tensorflow.keras.optimizers import SGD\n",
    "from tensorflow.keras.activations import relu, softmax, tanh\n",
    "from tensorflow.keras.initializers import he_normal, glorot_uniform\n",
    "from tensorflow.keras.utils import to_categorical\n",
    "from tensorflow.keras.datasets import cifar10\n",
    "from tensorflow.keras.callbacks import TensorBoard\n",
    "from tensorflow.keras.models import Model, load_model\n",
    "from tensorflow.keras.regularizers import l2, l1, l1_l2\n",
    "from tensorflow.random import set_seed"
   ]
  },
  {
   "cell_type": "code",
   "execution_count": 2,
   "id": "bb04a5ed",
   "metadata": {},
   "outputs": [
    {
     "name": "stdout",
     "output_type": "stream",
     "text": [
      "Version de TensorFlow : 2.6.0\n",
      "Metal device set to: Apple M1\n",
      "Nom du GPU : /device:GPU:0\n"
     ]
    },
    {
     "name": "stderr",
     "output_type": "stream",
     "text": [
      "2021-12-31 00:32:45.693461: I tensorflow/core/common_runtime/pluggable_device/pluggable_device_factory.cc:305] Could not identify NUMA node of platform GPU ID 0, defaulting to 0. Your kernel may not have been built with NUMA support.\n",
      "2021-12-31 00:32:45.694206: I tensorflow/core/common_runtime/pluggable_device/pluggable_device_factory.cc:271] Created TensorFlow device (/device:GPU:0 with 0 MB memory) -> physical PluggableDevice (device: 0, name: METAL, pci bus id: <undefined>)\n"
     ]
    }
   ],
   "source": [
    "print(\"Version de TensorFlow :\", tf.__version__)\n",
    "print(\"Nom du GPU :\", tf.test.gpu_device_name())\n",
    "\n",
    "tf.keras.backend.clear_session()\n",
    "tf.config.optimizer.set_jit(False)"
   ]
  },
  {
   "cell_type": "markdown",
   "id": "439c2a09",
   "metadata": {},
   "source": [
    "## Importation du dataset"
   ]
  },
  {
   "cell_type": "code",
   "execution_count": 3,
   "id": "a315c256",
   "metadata": {},
   "outputs": [],
   "source": [
    "(x_train, y_train), (x_test, y_test) = cifar10.load_data()"
   ]
  },
  {
   "cell_type": "code",
   "execution_count": 4,
   "id": "230b7133",
   "metadata": {},
   "outputs": [],
   "source": [
    "NUM_CLASSES = 10\n",
    "IMG_SIZE = x_train[0].shape"
   ]
  },
  {
   "cell_type": "code",
   "execution_count": 5,
   "id": "ff20cd03",
   "metadata": {},
   "outputs": [],
   "source": [
    "x_train = x_train.astype('float32') / 256\n",
    "x_test = x_test.astype('float32') / 256\n",
    "\n",
    "y_train = to_categorical(y_train, num_classes=NUM_CLASSES)\n",
    "y_test = to_categorical(y_test, num_classes=NUM_CLASSES)"
   ]
  },
  {
   "cell_type": "code",
   "execution_count": 6,
   "id": "60731850",
   "metadata": {},
   "outputs": [],
   "source": [
    "LOG_DIR = os.path.join(\"logs\")\n",
    "MODEL_DIR = os.path.join(\"models\")"
   ]
  },
  {
   "cell_type": "markdown",
   "id": "b8424c73",
   "metadata": {},
   "source": [
    "## Fixer les seeds"
   ]
  },
  {
   "cell_type": "code",
   "execution_count": 7,
   "id": "ae314e71",
   "metadata": {},
   "outputs": [],
   "source": [
    "set_seed(42) # TensorFlow\n",
    "seed(42) # NumPy"
   ]
  },
  {
   "cell_type": "markdown",
   "id": "20fd682c",
   "metadata": {},
   "source": [
    "# RNN"
   ]
  },
  {
   "cell_type": "markdown",
   "id": "23c279e1",
   "metadata": {},
   "source": [
    "![RNN](https://ichi.pro/assets/images/max/724/1*go8PHsPNbbV6qRiwpUQ5BQ.png)"
   ]
  },
  {
   "cell_type": "markdown",
   "id": "c8794027",
   "metadata": {},
   "source": [
    "Voici à quoi ressemble un RNN (Reccurent Neural Network). La particularité du RNN est qu'il s'appelle lui-même"
   ]
  },
  {
   "cell_type": "markdown",
   "id": "da76da68",
   "metadata": {},
   "source": [
    "Pour voir l'influence des hyperparamètres sur un RNN, nous avons d'abord besoin de fixer le nombre d'époques et le nombre de layer sur notre couche de sortie."
   ]
  },
  {
   "cell_type": "code",
   "execution_count": 8,
   "id": "8573c34f",
   "metadata": {},
   "outputs": [],
   "source": [
    "EPOCHS = 1000\n",
    "SHUFFLE = True\n",
    "NUM_CLASSES = 10"
   ]
  },
  {
   "cell_type": "markdown",
   "id": "21c876ba",
   "metadata": {},
   "source": [
    "Ce modèle n'a pas était vu en cours, du coup, nous allons nous faciliter la tâche, nous allons créer un modèle principal appelé main puis nous allons tester un ou plusieurs hyperparamètres à la fois pour que l'on puisse aperçevoir leur(s) influence sur le modèle."
   ]
  },
  {
   "cell_type": "markdown",
   "id": "d42f7628",
   "metadata": {},
   "source": [
    "## Modèle main\n",
    "\n",
    "Le modèle main est notre modèle principale, ce sera celui avec lequelle nous comparerons tout les autres prochains modèles et essayer de distinguer le plus clairement possible l'influence des hyperparamètres que nous modifierons. Nous avons choisi les hyperparamètres par défaut lorsque c'était possible et avons choisi le reste selon notre intuition."
   ]
  },
  {
   "cell_type": "code",
   "execution_count": null,
   "id": "e768e555",
   "metadata": {},
   "outputs": [],
   "source": [
    "def RNN_model()"
   ]
  }
 ],
 "metadata": {
  "kernelspec": {
   "display_name": "Python 3 (ipykernel)",
   "language": "python",
   "name": "python3"
  },
  "language_info": {
   "codemirror_mode": {
    "name": "ipython",
    "version": 3
   },
   "file_extension": ".py",
   "mimetype": "text/x-python",
   "name": "python",
   "nbconvert_exporter": "python",
   "pygments_lexer": "ipython3",
   "version": "3.9.5"
  }
 },
 "nbformat": 4,
 "nbformat_minor": 5
}
