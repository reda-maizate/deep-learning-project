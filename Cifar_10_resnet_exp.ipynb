{
 "cells": [
  {
   "cell_type": "markdown",
   "id": "bf68917b",
   "metadata": {},
   "source": [
    "# Ajouter image réseau"
   ]
  },
  {
   "cell_type": "markdown",
   "id": "0670a77e",
   "metadata": {},
   "source": [
    "## Réseau initiale "
   ]
  },
  {
   "cell_type": "markdown",
   "id": "d8a0ab7e",
   "metadata": {},
   "source": [
    "Les courbes ci dessus montre l'apprentissage (accuracy et loss) du réseau de base qui va nous servir de comparatif.\n",
    "Les courbes sont lisses sans dents de scie et une craoissance progressive sans décroissance.\n",
    "On peut observer entre l'epochs 150-200 du surapprentissage sur les courbes d'accuracy et de loss.\n"
   ]
  },
  {
   "cell_type": "markdown",
   "id": "c8adbca6",
   "metadata": {},
   "source": [
    "## Fonction d'activation tanh relu sigmoid"
   ]
  },
  {
   "cell_type": "markdown",
   "id": "a635a82b",
   "metadata": {},
   "source": [
    "## Normalisation"
   ]
  },
  {
   "cell_type": "markdown",
   "id": "2fc42ac5",
   "metadata": {},
   "source": []
  },
  {
   "cell_type": "markdown",
   "id": "b2a1a908",
   "metadata": {},
   "source": [
    "## Optimizer SGD ADAM RMSprop"
   ]
  },
  {
   "cell_type": "markdown",
   "id": "e6f15043",
   "metadata": {},
   "source": [
    "## Learning Rate et momentum"
   ]
  },
  {
   "cell_type": "markdown",
   "id": "fbcd5f74",
   "metadata": {},
   "source": [
    "Nous allons ici étudier l'impact du learning rate sur l'apprentissage ainsi que le momentum. \n",
    "On peut diviser cela en plusieurs parties :  [0.5, 0.1 ,0.01, 0.001] pour le learning rate et [0.25, 0.5, 0.9] pour le momentum\n",
    "- Pour 0.5 de learning rate et [0.25, 0.5, 0.9] de momentum: \n",
    ">  \n",
    "\n",
    "- Pour 0.1 de learning rate et [0.25, 0.5, 0.9] de momentum:  \n",
    "> \n",
    "\n",
    "- Pour 0.01 de learning rate et [0.25, 0.5, 0.9] de momentum:  \n",
    "> \n",
    "\n",
    "- Pour 0.001 de learning rate et [0.25, 0.5, 0.9] de momentum: \n",
    "> "
   ]
  }
 ],
 "metadata": {
  "kernelspec": {
   "display_name": "Python 3 (ipykernel)",
   "language": "python",
   "name": "python3"
  },
  "language_info": {
   "codemirror_mode": {
    "name": "ipython",
    "version": 3
   },
   "file_extension": ".py",
   "mimetype": "text/x-python",
   "name": "python",
   "nbconvert_exporter": "python",
   "pygments_lexer": "ipython3",
   "version": "3.8.10"
  }
 },
 "nbformat": 4,
 "nbformat_minor": 5
}
