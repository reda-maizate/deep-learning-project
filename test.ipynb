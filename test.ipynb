{
 "cells": [
  {
   "cell_type": "code",
   "execution_count": 16,
   "id": "b9bd3bcb",
   "metadata": {},
   "outputs": [],
   "source": [
    "import os\n",
    "import numpy as np\n",
    "from numpy.random import seed\n",
    "import tensorflow as tf\n",
    "from tensorflow.keras.layers import Flatten, Dense, Conv2D, BatchNormalization, Input, Average, MaxPool2D\n",
    "from tensorflow.keras.losses import categorical_crossentropy\n",
    "from tensorflow.keras.metrics import categorical_accuracy\n",
    "from tensorflow.keras.optimizers import SGD\n",
    "from tensorflow.keras.activations import relu, softmax, tanh\n",
    "from tensorflow.keras.initializers import he_normal, glorot_uniform\n",
    "from tensorflow.keras.utils import to_categorical\n",
    "from tensorflow.keras.datasets import cifar10\n",
    "from tensorflow.keras.callbacks import TensorBoard\n",
    "from tensorflow.keras.models import Model, load_model\n",
    "from tensorflow.keras.regularizers import l2, l1, l1_l2\n",
    "from tensorflow.random import set_seed\n",
    "from tensorflow import keras"
   ]
  },
  {
   "cell_type": "code",
   "execution_count": 17,
   "id": "a2309f5f",
   "metadata": {},
   "outputs": [
    {
     "name": "stdout",
     "output_type": "stream",
     "text": [
      "Version de TensorFlow : 2.7.0\n",
      "Nom du GPU : /device:GPU:0\n"
     ]
    },
    {
     "name": "stderr",
     "output_type": "stream",
     "text": [
      "2022-01-06 18:20:17.287857: I tensorflow/core/common_runtime/pluggable_device/pluggable_device_factory.cc:305] Could not identify NUMA node of platform GPU ID 0, defaulting to 0. Your kernel may not have been built with NUMA support.\n",
      "2022-01-06 18:20:17.287911: I tensorflow/core/common_runtime/pluggable_device/pluggable_device_factory.cc:271] Created TensorFlow device (/device:GPU:0 with 0 MB memory) -> physical PluggableDevice (device: 0, name: METAL, pci bus id: <undefined>)\n"
     ]
    }
   ],
   "source": [
    "print(\"Version de TensorFlow :\", tf.__version__)\n",
    "print(\"Nom du GPU :\", tf.test.gpu_device_name())\n",
    "\n",
    "tf.keras.backend.clear_session()\n",
    "tf.config.optimizer.set_jit(False)"
   ]
  },
  {
   "cell_type": "code",
   "execution_count": 18,
   "id": "59be588a",
   "metadata": {},
   "outputs": [],
   "source": [
    "(x_train, y_train), (x_test, y_test) = cifar10.load_data()"
   ]
  },
  {
   "cell_type": "code",
   "execution_count": 19,
   "id": "61581a03",
   "metadata": {},
   "outputs": [],
   "source": [
    "NUM_CLASSES = 10\n",
    "IMG_SIZE = x_train[0].shape"
   ]
  },
  {
   "cell_type": "code",
   "execution_count": 20,
   "id": "d6012832",
   "metadata": {},
   "outputs": [],
   "source": [
    "x_train = x_train.astype('float32') / 256\n",
    "x_test = x_test.astype('float32') / 256\n",
    "\n",
    "y_train = to_categorical(y_train, num_classes=NUM_CLASSES)\n",
    "y_test = to_categorical(y_test, num_classes=NUM_CLASSES)"
   ]
  },
  {
   "cell_type": "code",
   "execution_count": 21,
   "id": "24ec8e31",
   "metadata": {},
   "outputs": [],
   "source": [
    "LOG_DIR = os.path.join(\"logs\")"
   ]
  },
  {
   "cell_type": "code",
   "execution_count": 22,
   "id": "094412c6",
   "metadata": {},
   "outputs": [],
   "source": [
    "set_seed(42) # TensorFlow\n",
    "seed(42) # NumPy"
   ]
  },
  {
   "cell_type": "code",
   "execution_count": 25,
   "id": "7dc254eb",
   "metadata": {},
   "outputs": [],
   "source": [
    "OPTIMIZER = SGD\n",
    "BATCH_SIZE = 512\n",
    "EPOCHS = 200\n",
    "SHUFFLE = True\n",
    "LEARNING_RATE = 0.01\n",
    "MOMENTUM = 0.1\n",
    "FILTERS = 32"
   ]
  },
  {
   "cell_type": "code",
   "execution_count": 28,
   "id": "f17a998d",
   "metadata": {},
   "outputs": [],
   "source": [
    "def Resnet():\n",
    "    input_tensor = keras.layers.Input(shape=(32, 32, 3))\n",
    "    hidden_tensor = input_tensor\n",
    "\n",
    "    for i in range(10):\n",
    "        prev_tensor = hidden_tensor\n",
    "        hidden_tensor = keras.layers.Conv2D(32, (3, 3), padding='same', activation=keras.activations.relu,\n",
    "                                            kernel_initializer=keras.initializers.he_normal)(hidden_tensor)\n",
    "        #hidden_tensor = keras.layers.Dropout(0.2)(hidden_tensor)\n",
    "        if i > 0:\n",
    "            hidden_tensor = keras.layers.Add()([hidden_tensor, prev_tensor]) / 2.0\n",
    "        else:\n",
    "            hidden_tensor = keras.layers.Add()([hidden_tensor, keras.layers.Dense(32)(prev_tensor)]) / 2.0\n",
    "\n",
    "    hidden_tensor = keras.layers.Flatten()(hidden_tensor)\n",
    "    output_tensor = keras.layers.Dense(10, activation=keras.activations.softmax,\n",
    "                                       kernel_regularizer=keras.regularizers.l2(0.01),\n",
    "                                       bias_regularizer=keras.regularizers.l2(0.01))(hidden_tensor)\n",
    "\n",
    "    model = keras.models.Model(input_tensor, output_tensor)\n",
    "    return model"
   ]
  },
  {
   "cell_type": "code",
   "execution_count": 29,
   "id": "fd4770c9",
   "metadata": {},
   "outputs": [
    {
     "name": "stdout",
     "output_type": "stream",
     "text": [
      "Epoch 1/200\n"
     ]
    },
    {
     "name": "stderr",
     "output_type": "stream",
     "text": [
      "2022-01-06 18:21:35.626669: I tensorflow/core/grappler/optimizers/custom_graph_optimizer_registry.cc:112] Plugin optimizer for device_type GPU is enabled.\n"
     ]
    },
    {
     "name": "stdout",
     "output_type": "stream",
     "text": [
      "98/98 [==============================] - ETA: 0s - loss: 2.4911 - categorical_accuracy: 0.1191"
     ]
    },
    {
     "name": "stderr",
     "output_type": "stream",
     "text": [
      "2022-01-06 18:22:16.732157: I tensorflow/core/grappler/optimizers/custom_graph_optimizer_registry.cc:112] Plugin optimizer for device_type GPU is enabled.\n"
     ]
    },
    {
     "name": "stdout",
     "output_type": "stream",
     "text": [
      "98/98 [==============================] - 45s 422ms/step - loss: 2.4911 - categorical_accuracy: 0.1191 - val_loss: 2.4762 - val_categorical_accuracy: 0.1261\n",
      "Epoch 2/200\n",
      "98/98 [==============================] - 42s 424ms/step - loss: 2.4348 - categorical_accuracy: 0.1686 - val_loss: 2.3608 - val_categorical_accuracy: 0.1976\n",
      "Epoch 3/200\n",
      "98/98 [==============================] - 41s 419ms/step - loss: 2.3207 - categorical_accuracy: 0.2177 - val_loss: 2.2940 - val_categorical_accuracy: 0.2524\n",
      "Epoch 4/200\n",
      "98/98 [==============================] - 41s 419ms/step - loss: 2.2768 - categorical_accuracy: 0.2408 - val_loss: 2.2688 - val_categorical_accuracy: 0.2621\n",
      "Epoch 5/200\n",
      "98/98 [==============================] - 42s 434ms/step - loss: 2.2422 - categorical_accuracy: 0.2629 - val_loss: 2.2237 - val_categorical_accuracy: 0.2724\n",
      "Epoch 6/200\n",
      "98/98 [==============================] - 45s 458ms/step - loss: 2.2072 - categorical_accuracy: 0.2779 - val_loss: 2.1883 - val_categorical_accuracy: 0.2915\n",
      "Epoch 7/200\n",
      "98/98 [==============================] - 45s 462ms/step - loss: 2.1647 - categorical_accuracy: 0.2966 - val_loss: 2.1380 - val_categorical_accuracy: 0.3142\n",
      "Epoch 8/200\n",
      "98/98 [==============================] - 47s 483ms/step - loss: 2.1417 - categorical_accuracy: 0.3042 - val_loss: 2.0870 - val_categorical_accuracy: 0.3282\n",
      "Epoch 9/200\n",
      "98/98 [==============================] - 48s 487ms/step - loss: 2.1020 - categorical_accuracy: 0.3135 - val_loss: 2.1054 - val_categorical_accuracy: 0.3073\n",
      "Epoch 10/200\n",
      "98/98 [==============================] - 47s 479ms/step - loss: 2.0773 - categorical_accuracy: 0.3193 - val_loss: 2.0464 - val_categorical_accuracy: 0.3206\n",
      "Epoch 11/200\n",
      "98/98 [==============================] - 48s 491ms/step - loss: 2.0396 - categorical_accuracy: 0.3271 - val_loss: 2.0224 - val_categorical_accuracy: 0.3348\n",
      "Epoch 12/200\n",
      "98/98 [==============================] - 50s 506ms/step - loss: 2.0199 - categorical_accuracy: 0.3357 - val_loss: 2.0224 - val_categorical_accuracy: 0.3368\n",
      "Epoch 13/200\n",
      "98/98 [==============================] - 51s 520ms/step - loss: 1.9704 - categorical_accuracy: 0.3555 - val_loss: 1.9187 - val_categorical_accuracy: 0.3692\n",
      "Epoch 14/200\n",
      "98/98 [==============================] - 52s 531ms/step - loss: 1.9215 - categorical_accuracy: 0.3702 - val_loss: 1.9298 - val_categorical_accuracy: 0.3573\n",
      "Epoch 15/200\n",
      "98/98 [==============================] - 52s 526ms/step - loss: 1.8910 - categorical_accuracy: 0.3780 - val_loss: 1.8568 - val_categorical_accuracy: 0.3848\n",
      "Epoch 16/200\n",
      "98/98 [==============================] - 50s 513ms/step - loss: 1.8643 - categorical_accuracy: 0.3876 - val_loss: 1.8185 - val_categorical_accuracy: 0.4020\n",
      "Epoch 17/200\n",
      "98/98 [==============================] - 50s 509ms/step - loss: 1.8365 - categorical_accuracy: 0.3929 - val_loss: 1.8592 - val_categorical_accuracy: 0.3779\n",
      "Epoch 18/200\n",
      "98/98 [==============================] - 53s 545ms/step - loss: 1.8209 - categorical_accuracy: 0.3969 - val_loss: 1.7684 - val_categorical_accuracy: 0.4142\n",
      "Epoch 19/200\n",
      "98/98 [==============================] - 50s 511ms/step - loss: 1.7874 - categorical_accuracy: 0.4082 - val_loss: 1.9578 - val_categorical_accuracy: 0.3590\n",
      "Epoch 20/200\n",
      "98/98 [==============================] - 49s 500ms/step - loss: 1.7754 - categorical_accuracy: 0.4122 - val_loss: 1.7196 - val_categorical_accuracy: 0.4307\n",
      "Epoch 21/200\n",
      "98/98 [==============================] - 53s 543ms/step - loss: 1.7400 - categorical_accuracy: 0.4204 - val_loss: 1.7534 - val_categorical_accuracy: 0.4119\n",
      "Epoch 22/200\n",
      "98/98 [==============================] - 55s 564ms/step - loss: 1.7274 - categorical_accuracy: 0.4247 - val_loss: 1.7369 - val_categorical_accuracy: 0.4091\n",
      "Epoch 23/200\n",
      "98/98 [==============================] - 59s 607ms/step - loss: 1.7147 - categorical_accuracy: 0.4273 - val_loss: 1.6800 - val_categorical_accuracy: 0.4348\n",
      "Epoch 24/200\n",
      "98/98 [==============================] - 55s 560ms/step - loss: 1.6974 - categorical_accuracy: 0.4326 - val_loss: 1.7338 - val_categorical_accuracy: 0.4209\n",
      "Epoch 25/200\n",
      "98/98 [==============================] - 54s 553ms/step - loss: 1.6865 - categorical_accuracy: 0.4351 - val_loss: 1.6617 - val_categorical_accuracy: 0.4462\n",
      "Epoch 26/200\n",
      "98/98 [==============================] - 59s 603ms/step - loss: 1.6629 - categorical_accuracy: 0.4437 - val_loss: 1.6274 - val_categorical_accuracy: 0.4595\n",
      "Epoch 27/200\n",
      "98/98 [==============================] - 54s 556ms/step - loss: 1.6590 - categorical_accuracy: 0.4458 - val_loss: 1.7051 - val_categorical_accuracy: 0.4225\n",
      "Epoch 28/200\n",
      "98/98 [==============================] - 58s 593ms/step - loss: 1.6434 - categorical_accuracy: 0.4490 - val_loss: 1.6247 - val_categorical_accuracy: 0.4472\n",
      "Epoch 29/200\n",
      "98/98 [==============================] - 59s 604ms/step - loss: 1.6234 - categorical_accuracy: 0.4555 - val_loss: 1.6169 - val_categorical_accuracy: 0.4573\n",
      "Epoch 30/200\n",
      "98/98 [==============================] - 56s 569ms/step - loss: 1.6077 - categorical_accuracy: 0.4603 - val_loss: 1.6519 - val_categorical_accuracy: 0.4350\n",
      "Epoch 31/200\n",
      "98/98 [==============================] - 55s 559ms/step - loss: 1.6037 - categorical_accuracy: 0.4596 - val_loss: 1.6395 - val_categorical_accuracy: 0.4417\n",
      "Epoch 32/200\n",
      "98/98 [==============================] - 57s 583ms/step - loss: 1.5869 - categorical_accuracy: 0.4655 - val_loss: 1.5480 - val_categorical_accuracy: 0.4787\n",
      "Epoch 33/200\n",
      "98/98 [==============================] - 56s 575ms/step - loss: 1.5811 - categorical_accuracy: 0.4676 - val_loss: 1.5534 - val_categorical_accuracy: 0.4814\n",
      "Epoch 34/200\n",
      "98/98 [==============================] - 56s 573ms/step - loss: 1.5632 - categorical_accuracy: 0.4725 - val_loss: 1.5527 - val_categorical_accuracy: 0.4751\n",
      "Epoch 35/200\n",
      "98/98 [==============================] - 58s 592ms/step - loss: 1.5595 - categorical_accuracy: 0.4751 - val_loss: 1.5330 - val_categorical_accuracy: 0.4770\n",
      "Epoch 36/200\n",
      "98/98 [==============================] - 58s 594ms/step - loss: 1.5377 - categorical_accuracy: 0.4806 - val_loss: 1.5069 - val_categorical_accuracy: 0.4903\n",
      "Epoch 37/200\n",
      "98/98 [==============================] - 59s 597ms/step - loss: 1.5341 - categorical_accuracy: 0.4803 - val_loss: 1.5129 - val_categorical_accuracy: 0.4871\n",
      "Epoch 38/200\n",
      "98/98 [==============================] - 59s 597ms/step - loss: 1.5197 - categorical_accuracy: 0.4872 - val_loss: 1.5582 - val_categorical_accuracy: 0.4700\n",
      "Epoch 39/200\n",
      "98/98 [==============================] - 61s 621ms/step - loss: 1.5086 - categorical_accuracy: 0.4892 - val_loss: 1.4884 - val_categorical_accuracy: 0.4910\n",
      "Epoch 40/200\n",
      "98/98 [==============================] - 59s 602ms/step - loss: 1.5079 - categorical_accuracy: 0.4899 - val_loss: 1.4743 - val_categorical_accuracy: 0.4964\n",
      "Epoch 41/200\n",
      "98/98 [==============================] - 62s 628ms/step - loss: 1.4953 - categorical_accuracy: 0.4931 - val_loss: 1.4677 - val_categorical_accuracy: 0.4996\n",
      "Epoch 42/200\n",
      "98/98 [==============================] - 61s 621ms/step - loss: 1.4849 - categorical_accuracy: 0.4949 - val_loss: 1.4945 - val_categorical_accuracy: 0.4893\n",
      "Epoch 43/200\n",
      "98/98 [==============================] - 58s 594ms/step - loss: 1.4768 - categorical_accuracy: 0.4992 - val_loss: 1.4616 - val_categorical_accuracy: 0.4972\n",
      "Epoch 44/200\n",
      "98/98 [==============================] - 59s 602ms/step - loss: 1.4664 - categorical_accuracy: 0.5024 - val_loss: 1.4709 - val_categorical_accuracy: 0.5002\n",
      "Epoch 45/200\n",
      "98/98 [==============================] - 59s 605ms/step - loss: 1.4540 - categorical_accuracy: 0.5076 - val_loss: 1.4567 - val_categorical_accuracy: 0.4972\n",
      "Epoch 46/200\n",
      "98/98 [==============================] - 59s 606ms/step - loss: 1.4381 - categorical_accuracy: 0.5101 - val_loss: 1.4325 - val_categorical_accuracy: 0.5108\n",
      "Epoch 47/200\n",
      "98/98 [==============================] - 61s 620ms/step - loss: 1.4348 - categorical_accuracy: 0.5107 - val_loss: 1.4130 - val_categorical_accuracy: 0.5163\n",
      "Epoch 48/200\n",
      "98/98 [==============================] - 58s 592ms/step - loss: 1.4218 - categorical_accuracy: 0.5164 - val_loss: 1.4436 - val_categorical_accuracy: 0.5029\n",
      "Epoch 49/200\n"
     ]
    },
    {
     "name": "stdout",
     "output_type": "stream",
     "text": [
      "98/98 [==============================] - 61s 626ms/step - loss: 1.4145 - categorical_accuracy: 0.5171 - val_loss: 1.4220 - val_categorical_accuracy: 0.5107\n",
      "Epoch 50/200\n",
      "98/98 [==============================] - 70s 714ms/step - loss: 1.4080 - categorical_accuracy: 0.5194 - val_loss: 1.4497 - val_categorical_accuracy: 0.5074\n",
      "Epoch 51/200\n",
      "98/98 [==============================] - 58s 587ms/step - loss: 1.3938 - categorical_accuracy: 0.5232 - val_loss: 1.4528 - val_categorical_accuracy: 0.5015\n",
      "Epoch 52/200\n",
      "98/98 [==============================] - 57s 585ms/step - loss: 1.3927 - categorical_accuracy: 0.5251 - val_loss: 1.4412 - val_categorical_accuracy: 0.5033\n",
      "Epoch 53/200\n",
      "98/98 [==============================] - 57s 585ms/step - loss: 1.3786 - categorical_accuracy: 0.5300 - val_loss: 1.4926 - val_categorical_accuracy: 0.4890\n",
      "Epoch 54/200\n",
      "98/98 [==============================] - 58s 589ms/step - loss: 1.3786 - categorical_accuracy: 0.5281 - val_loss: 1.3948 - val_categorical_accuracy: 0.5185\n",
      "Epoch 55/200\n",
      "98/98 [==============================] - 60s 608ms/step - loss: 1.3683 - categorical_accuracy: 0.5322 - val_loss: 1.3717 - val_categorical_accuracy: 0.5211\n",
      "Epoch 56/200\n",
      "98/98 [==============================] - 59s 598ms/step - loss: 1.3584 - categorical_accuracy: 0.5379 - val_loss: 1.3783 - val_categorical_accuracy: 0.5346\n",
      "Epoch 57/200\n",
      "98/98 [==============================] - 67s 680ms/step - loss: 1.3494 - categorical_accuracy: 0.5404 - val_loss: 1.3682 - val_categorical_accuracy: 0.5275\n",
      "Epoch 58/200\n",
      "98/98 [==============================] - 66s 675ms/step - loss: 1.3522 - categorical_accuracy: 0.5400 - val_loss: 1.4143 - val_categorical_accuracy: 0.5113\n",
      "Epoch 59/200\n",
      "98/98 [==============================] - 58s 596ms/step - loss: 1.3336 - categorical_accuracy: 0.5462 - val_loss: 1.4582 - val_categorical_accuracy: 0.5005\n",
      "Epoch 60/200\n",
      "98/98 [==============================] - 61s 619ms/step - loss: 1.3375 - categorical_accuracy: 0.5459 - val_loss: 1.3873 - val_categorical_accuracy: 0.5260\n",
      "Epoch 61/200\n",
      "98/98 [==============================] - 61s 620ms/step - loss: 1.3221 - categorical_accuracy: 0.5514 - val_loss: 1.3344 - val_categorical_accuracy: 0.5441\n",
      "Epoch 62/200\n",
      "98/98 [==============================] - 54s 550ms/step - loss: 1.3166 - categorical_accuracy: 0.5524 - val_loss: 1.3093 - val_categorical_accuracy: 0.5582\n",
      "Epoch 63/200\n",
      "98/98 [==============================] - 56s 568ms/step - loss: 1.3122 - categorical_accuracy: 0.5528 - val_loss: 1.3220 - val_categorical_accuracy: 0.5490\n",
      "Epoch 64/200\n",
      "98/98 [==============================] - 55s 562ms/step - loss: 1.3030 - categorical_accuracy: 0.5565 - val_loss: 1.3103 - val_categorical_accuracy: 0.5517\n",
      "Epoch 65/200\n",
      "98/98 [==============================] - 58s 592ms/step - loss: 1.2910 - categorical_accuracy: 0.5624 - val_loss: 1.3053 - val_categorical_accuracy: 0.5513\n",
      "Epoch 66/200\n",
      "98/98 [==============================] - 56s 566ms/step - loss: 1.2920 - categorical_accuracy: 0.5630 - val_loss: 1.3125 - val_categorical_accuracy: 0.5479\n",
      "Epoch 67/200\n",
      "98/98 [==============================] - 56s 576ms/step - loss: 1.2845 - categorical_accuracy: 0.5652 - val_loss: 1.3235 - val_categorical_accuracy: 0.5468\n",
      "Epoch 68/200\n",
      "98/98 [==============================] - 54s 554ms/step - loss: 1.2841 - categorical_accuracy: 0.5636 - val_loss: 1.3882 - val_categorical_accuracy: 0.5239\n",
      "Epoch 69/200\n",
      "98/98 [==============================] - 54s 554ms/step - loss: 1.2781 - categorical_accuracy: 0.5653 - val_loss: 1.3605 - val_categorical_accuracy: 0.5330\n",
      "Epoch 70/200\n",
      "98/98 [==============================] - 55s 565ms/step - loss: 1.2737 - categorical_accuracy: 0.5677 - val_loss: 1.3301 - val_categorical_accuracy: 0.5470\n",
      "Epoch 71/200\n",
      "98/98 [==============================] - 58s 592ms/step - loss: 1.2655 - categorical_accuracy: 0.5695 - val_loss: 1.2748 - val_categorical_accuracy: 0.5639\n",
      "Epoch 72/200\n",
      "98/98 [==============================] - 58s 592ms/step - loss: 1.2527 - categorical_accuracy: 0.5743 - val_loss: 1.2817 - val_categorical_accuracy: 0.5579\n",
      "Epoch 73/200\n",
      "98/98 [==============================] - 57s 581ms/step - loss: 1.2571 - categorical_accuracy: 0.5730 - val_loss: 1.2769 - val_categorical_accuracy: 0.5666\n",
      "Epoch 74/200\n",
      "98/98 [==============================] - 54s 547ms/step - loss: 1.2450 - categorical_accuracy: 0.5804 - val_loss: 1.2995 - val_categorical_accuracy: 0.5521\n",
      "Epoch 75/200\n",
      "98/98 [==============================] - 55s 561ms/step - loss: 1.2409 - categorical_accuracy: 0.5805 - val_loss: 1.2935 - val_categorical_accuracy: 0.5561\n",
      "Epoch 76/200\n",
      "98/98 [==============================] - 56s 573ms/step - loss: 1.2355 - categorical_accuracy: 0.5821 - val_loss: 1.2659 - val_categorical_accuracy: 0.5601\n",
      "Epoch 77/200\n",
      "98/98 [==============================] - 66s 675ms/step - loss: 1.2289 - categorical_accuracy: 0.5869 - val_loss: 1.2469 - val_categorical_accuracy: 0.5722\n",
      "Epoch 78/200\n",
      "98/98 [==============================] - 57s 583ms/step - loss: 1.2335 - categorical_accuracy: 0.5832 - val_loss: 1.2418 - val_categorical_accuracy: 0.5789\n",
      "Epoch 79/200\n",
      "98/98 [==============================] - 58s 596ms/step - loss: 1.2211 - categorical_accuracy: 0.5884 - val_loss: 1.2913 - val_categorical_accuracy: 0.5635\n",
      "Epoch 80/200\n",
      "98/98 [==============================] - 65s 662ms/step - loss: 1.2211 - categorical_accuracy: 0.5879 - val_loss: 1.2891 - val_categorical_accuracy: 0.5633\n",
      "Epoch 81/200\n",
      "98/98 [==============================] - 59s 605ms/step - loss: 1.2054 - categorical_accuracy: 0.5923 - val_loss: 1.2332 - val_categorical_accuracy: 0.5778\n",
      "Epoch 82/200\n",
      "98/98 [==============================] - 64s 657ms/step - loss: 1.2082 - categorical_accuracy: 0.5910 - val_loss: 1.3804 - val_categorical_accuracy: 0.5355\n",
      "Epoch 83/200\n",
      "98/98 [==============================] - 56s 574ms/step - loss: 1.1968 - categorical_accuracy: 0.5960 - val_loss: 1.1999 - val_categorical_accuracy: 0.5942\n",
      "Epoch 84/200\n",
      "98/98 [==============================] - 57s 576ms/step - loss: 1.1926 - categorical_accuracy: 0.5999 - val_loss: 1.2574 - val_categorical_accuracy: 0.5738\n",
      "Epoch 85/200\n",
      "98/98 [==============================] - 61s 628ms/step - loss: 1.1995 - categorical_accuracy: 0.5964 - val_loss: 1.2822 - val_categorical_accuracy: 0.5642\n",
      "Epoch 86/200\n",
      "98/98 [==============================] - 58s 592ms/step - loss: 1.1757 - categorical_accuracy: 0.6038 - val_loss: 1.2307 - val_categorical_accuracy: 0.5809\n",
      "Epoch 87/200\n",
      "98/98 [==============================] - 59s 607ms/step - loss: 1.1923 - categorical_accuracy: 0.5980 - val_loss: 1.2345 - val_categorical_accuracy: 0.5741\n",
      "Epoch 88/200\n",
      "98/98 [==============================] - 59s 599ms/step - loss: 1.1768 - categorical_accuracy: 0.6051 - val_loss: 1.2877 - val_categorical_accuracy: 0.5736\n",
      "Epoch 89/200\n",
      "98/98 [==============================] - 61s 618ms/step - loss: 1.1742 - categorical_accuracy: 0.6042 - val_loss: 1.3494 - val_categorical_accuracy: 0.5461\n",
      "Epoch 90/200\n",
      "98/98 [==============================] - 67s 686ms/step - loss: 1.1712 - categorical_accuracy: 0.6074 - val_loss: 1.2637 - val_categorical_accuracy: 0.5685\n",
      "Epoch 91/200\n",
      "98/98 [==============================] - 69s 701ms/step - loss: 1.1653 - categorical_accuracy: 0.6095 - val_loss: 1.2163 - val_categorical_accuracy: 0.5900\n",
      "Epoch 92/200\n",
      "98/98 [==============================] - 61s 616ms/step - loss: 1.1646 - categorical_accuracy: 0.6069 - val_loss: 1.3415 - val_categorical_accuracy: 0.5450\n",
      "Epoch 93/200\n",
      "98/98 [==============================] - 60s 611ms/step - loss: 1.1590 - categorical_accuracy: 0.6140 - val_loss: 1.2181 - val_categorical_accuracy: 0.5854\n",
      "Epoch 94/200\n",
      "98/98 [==============================] - 66s 673ms/step - loss: 1.1551 - categorical_accuracy: 0.6131 - val_loss: 1.2606 - val_categorical_accuracy: 0.5739\n",
      "Epoch 95/200\n",
      "98/98 [==============================] - 66s 677ms/step - loss: 1.1492 - categorical_accuracy: 0.6153 - val_loss: 1.2158 - val_categorical_accuracy: 0.5884\n",
      "Epoch 96/200\n",
      "98/98 [==============================] - 59s 603ms/step - loss: 1.1459 - categorical_accuracy: 0.6173 - val_loss: 1.2170 - val_categorical_accuracy: 0.5928\n",
      "Epoch 97/200\n"
     ]
    },
    {
     "name": "stdout",
     "output_type": "stream",
     "text": [
      "98/98 [==============================] - 60s 610ms/step - loss: 1.1374 - categorical_accuracy: 0.6188 - val_loss: 1.2082 - val_categorical_accuracy: 0.5926\n",
      "Epoch 98/200\n",
      "98/98 [==============================] - 59s 602ms/step - loss: 1.1374 - categorical_accuracy: 0.6204 - val_loss: 1.1925 - val_categorical_accuracy: 0.5962\n",
      "Epoch 99/200\n",
      "98/98 [==============================] - 63s 638ms/step - loss: 1.1360 - categorical_accuracy: 0.6216 - val_loss: 1.2347 - val_categorical_accuracy: 0.5745\n",
      "Epoch 100/200\n",
      "98/98 [==============================] - 66s 676ms/step - loss: 1.1310 - categorical_accuracy: 0.6214 - val_loss: 1.2033 - val_categorical_accuracy: 0.5910\n",
      "Epoch 101/200\n",
      "98/98 [==============================] - 62s 630ms/step - loss: 1.1195 - categorical_accuracy: 0.6281 - val_loss: 1.2860 - val_categorical_accuracy: 0.5716\n",
      "Epoch 102/200\n",
      "98/98 [==============================] - ETA: 0s - loss: 1.1200 - categorical_accuracy: 0.6277"
     ]
    },
    {
     "ename": "KeyboardInterrupt",
     "evalue": "",
     "output_type": "error",
     "traceback": [
      "\u001b[0;31m---------------------------------------------------------------------------\u001b[0m",
      "\u001b[0;31mKeyboardInterrupt\u001b[0m                         Traceback (most recent call last)",
      "\u001b[0;32m/var/folders/0y/y15snhr97dz7tvtvnn3rv2z00000gn/T/ipykernel_4602/3970888912.py\u001b[0m in \u001b[0;36m<module>\u001b[0;34m\u001b[0m\n\u001b[1;32m      5\u001b[0m RESNET_LOG = os.path.join(LOG_DIR, \"resnet\",\n\u001b[1;32m      6\u001b[0m                         f\"test_modele_prof\")\n\u001b[0;32m----> 7\u001b[0;31m resnet.fit(x_train,y_train,\n\u001b[0m\u001b[1;32m      8\u001b[0m               \u001b[0mbatch_size\u001b[0m\u001b[0;34m=\u001b[0m\u001b[0mBATCH_SIZE\u001b[0m\u001b[0;34m,\u001b[0m\u001b[0;34m\u001b[0m\u001b[0;34m\u001b[0m\u001b[0m\n\u001b[1;32m      9\u001b[0m               \u001b[0mepochs\u001b[0m\u001b[0;34m=\u001b[0m\u001b[0mEPOCHS\u001b[0m\u001b[0;34m,\u001b[0m\u001b[0;34m\u001b[0m\u001b[0;34m\u001b[0m\u001b[0m\n",
      "\u001b[0;32m/opt/homebrew/Caskroom/miniforge/base/envs/tf26py39/lib/python3.9/site-packages/keras/utils/traceback_utils.py\u001b[0m in \u001b[0;36merror_handler\u001b[0;34m(*args, **kwargs)\u001b[0m\n\u001b[1;32m     62\u001b[0m     \u001b[0mfiltered_tb\u001b[0m \u001b[0;34m=\u001b[0m \u001b[0;32mNone\u001b[0m\u001b[0;34m\u001b[0m\u001b[0;34m\u001b[0m\u001b[0m\n\u001b[1;32m     63\u001b[0m     \u001b[0;32mtry\u001b[0m\u001b[0;34m:\u001b[0m\u001b[0;34m\u001b[0m\u001b[0;34m\u001b[0m\u001b[0m\n\u001b[0;32m---> 64\u001b[0;31m       \u001b[0;32mreturn\u001b[0m \u001b[0mfn\u001b[0m\u001b[0;34m(\u001b[0m\u001b[0;34m*\u001b[0m\u001b[0margs\u001b[0m\u001b[0;34m,\u001b[0m \u001b[0;34m**\u001b[0m\u001b[0mkwargs\u001b[0m\u001b[0;34m)\u001b[0m\u001b[0;34m\u001b[0m\u001b[0;34m\u001b[0m\u001b[0m\n\u001b[0m\u001b[1;32m     65\u001b[0m     \u001b[0;32mexcept\u001b[0m \u001b[0mException\u001b[0m \u001b[0;32mas\u001b[0m \u001b[0me\u001b[0m\u001b[0;34m:\u001b[0m  \u001b[0;31m# pylint: disable=broad-except\u001b[0m\u001b[0;34m\u001b[0m\u001b[0;34m\u001b[0m\u001b[0m\n\u001b[1;32m     66\u001b[0m       \u001b[0mfiltered_tb\u001b[0m \u001b[0;34m=\u001b[0m \u001b[0m_process_traceback_frames\u001b[0m\u001b[0;34m(\u001b[0m\u001b[0me\u001b[0m\u001b[0;34m.\u001b[0m\u001b[0m__traceback__\u001b[0m\u001b[0;34m)\u001b[0m\u001b[0;34m\u001b[0m\u001b[0;34m\u001b[0m\u001b[0m\n",
      "\u001b[0;32m/opt/homebrew/Caskroom/miniforge/base/envs/tf26py39/lib/python3.9/site-packages/keras/engine/training.py\u001b[0m in \u001b[0;36mfit\u001b[0;34m(self, x, y, batch_size, epochs, verbose, callbacks, validation_split, validation_data, shuffle, class_weight, sample_weight, initial_epoch, steps_per_epoch, validation_steps, validation_batch_size, validation_freq, max_queue_size, workers, use_multiprocessing)\u001b[0m\n\u001b[1;32m   1250\u001b[0m                 \u001b[0mmodel\u001b[0m\u001b[0;34m=\u001b[0m\u001b[0mself\u001b[0m\u001b[0;34m,\u001b[0m\u001b[0;34m\u001b[0m\u001b[0;34m\u001b[0m\u001b[0m\n\u001b[1;32m   1251\u001b[0m                 steps_per_execution=self._steps_per_execution)\n\u001b[0;32m-> 1252\u001b[0;31m           val_logs = self.evaluate(\n\u001b[0m\u001b[1;32m   1253\u001b[0m               \u001b[0mx\u001b[0m\u001b[0;34m=\u001b[0m\u001b[0mval_x\u001b[0m\u001b[0;34m,\u001b[0m\u001b[0;34m\u001b[0m\u001b[0;34m\u001b[0m\u001b[0m\n\u001b[1;32m   1254\u001b[0m               \u001b[0my\u001b[0m\u001b[0;34m=\u001b[0m\u001b[0mval_y\u001b[0m\u001b[0;34m,\u001b[0m\u001b[0;34m\u001b[0m\u001b[0;34m\u001b[0m\u001b[0m\n",
      "\u001b[0;32m/opt/homebrew/Caskroom/miniforge/base/envs/tf26py39/lib/python3.9/site-packages/keras/utils/traceback_utils.py\u001b[0m in \u001b[0;36merror_handler\u001b[0;34m(*args, **kwargs)\u001b[0m\n\u001b[1;32m     62\u001b[0m     \u001b[0mfiltered_tb\u001b[0m \u001b[0;34m=\u001b[0m \u001b[0;32mNone\u001b[0m\u001b[0;34m\u001b[0m\u001b[0;34m\u001b[0m\u001b[0m\n\u001b[1;32m     63\u001b[0m     \u001b[0;32mtry\u001b[0m\u001b[0;34m:\u001b[0m\u001b[0;34m\u001b[0m\u001b[0;34m\u001b[0m\u001b[0m\n\u001b[0;32m---> 64\u001b[0;31m       \u001b[0;32mreturn\u001b[0m \u001b[0mfn\u001b[0m\u001b[0;34m(\u001b[0m\u001b[0;34m*\u001b[0m\u001b[0margs\u001b[0m\u001b[0;34m,\u001b[0m \u001b[0;34m**\u001b[0m\u001b[0mkwargs\u001b[0m\u001b[0;34m)\u001b[0m\u001b[0;34m\u001b[0m\u001b[0;34m\u001b[0m\u001b[0m\n\u001b[0m\u001b[1;32m     65\u001b[0m     \u001b[0;32mexcept\u001b[0m \u001b[0mException\u001b[0m \u001b[0;32mas\u001b[0m \u001b[0me\u001b[0m\u001b[0;34m:\u001b[0m  \u001b[0;31m# pylint: disable=broad-except\u001b[0m\u001b[0;34m\u001b[0m\u001b[0;34m\u001b[0m\u001b[0m\n\u001b[1;32m     66\u001b[0m       \u001b[0mfiltered_tb\u001b[0m \u001b[0;34m=\u001b[0m \u001b[0m_process_traceback_frames\u001b[0m\u001b[0;34m(\u001b[0m\u001b[0me\u001b[0m\u001b[0;34m.\u001b[0m\u001b[0m__traceback__\u001b[0m\u001b[0;34m)\u001b[0m\u001b[0;34m\u001b[0m\u001b[0;34m\u001b[0m\u001b[0m\n",
      "\u001b[0;32m/opt/homebrew/Caskroom/miniforge/base/envs/tf26py39/lib/python3.9/site-packages/keras/engine/training.py\u001b[0m in \u001b[0;36mevaluate\u001b[0;34m(self, x, y, batch_size, verbose, sample_weight, steps, callbacks, max_queue_size, workers, use_multiprocessing, return_dict, **kwargs)\u001b[0m\n\u001b[1;32m   1529\u001b[0m       \u001b[0mself\u001b[0m\u001b[0;34m.\u001b[0m\u001b[0m_test_counter\u001b[0m\u001b[0;34m.\u001b[0m\u001b[0massign\u001b[0m\u001b[0;34m(\u001b[0m\u001b[0;36m0\u001b[0m\u001b[0;34m)\u001b[0m\u001b[0;34m\u001b[0m\u001b[0;34m\u001b[0m\u001b[0m\n\u001b[1;32m   1530\u001b[0m       \u001b[0mcallbacks\u001b[0m\u001b[0;34m.\u001b[0m\u001b[0mon_test_begin\u001b[0m\u001b[0;34m(\u001b[0m\u001b[0;34m)\u001b[0m\u001b[0;34m\u001b[0m\u001b[0;34m\u001b[0m\u001b[0m\n\u001b[0;32m-> 1531\u001b[0;31m       \u001b[0;32mfor\u001b[0m \u001b[0m_\u001b[0m\u001b[0;34m,\u001b[0m \u001b[0miterator\u001b[0m \u001b[0;32min\u001b[0m \u001b[0mdata_handler\u001b[0m\u001b[0;34m.\u001b[0m\u001b[0menumerate_epochs\u001b[0m\u001b[0;34m(\u001b[0m\u001b[0;34m)\u001b[0m\u001b[0;34m:\u001b[0m  \u001b[0;31m# Single epoch.\u001b[0m\u001b[0;34m\u001b[0m\u001b[0;34m\u001b[0m\u001b[0m\n\u001b[0m\u001b[1;32m   1532\u001b[0m         \u001b[0mself\u001b[0m\u001b[0;34m.\u001b[0m\u001b[0mreset_metrics\u001b[0m\u001b[0;34m(\u001b[0m\u001b[0;34m)\u001b[0m\u001b[0;34m\u001b[0m\u001b[0;34m\u001b[0m\u001b[0m\n\u001b[1;32m   1533\u001b[0m         \u001b[0;32mwith\u001b[0m \u001b[0mdata_handler\u001b[0m\u001b[0;34m.\u001b[0m\u001b[0mcatch_stop_iteration\u001b[0m\u001b[0;34m(\u001b[0m\u001b[0;34m)\u001b[0m\u001b[0;34m:\u001b[0m\u001b[0;34m\u001b[0m\u001b[0;34m\u001b[0m\u001b[0m\n",
      "\u001b[0;32m/opt/homebrew/Caskroom/miniforge/base/envs/tf26py39/lib/python3.9/site-packages/keras/engine/data_adapter.py\u001b[0m in \u001b[0;36menumerate_epochs\u001b[0;34m(self)\u001b[0m\n\u001b[1;32m   1193\u001b[0m     \u001b[0;34m\"\"\"Yields `(epoch, tf.data.Iterator)`.\"\"\"\u001b[0m\u001b[0;34m\u001b[0m\u001b[0;34m\u001b[0m\u001b[0m\n\u001b[1;32m   1194\u001b[0m     \u001b[0;32mwith\u001b[0m \u001b[0mself\u001b[0m\u001b[0;34m.\u001b[0m\u001b[0m_truncate_execution_to_epoch\u001b[0m\u001b[0;34m(\u001b[0m\u001b[0;34m)\u001b[0m\u001b[0;34m:\u001b[0m\u001b[0;34m\u001b[0m\u001b[0;34m\u001b[0m\u001b[0m\n\u001b[0;32m-> 1195\u001b[0;31m       \u001b[0mdata_iterator\u001b[0m \u001b[0;34m=\u001b[0m \u001b[0miter\u001b[0m\u001b[0;34m(\u001b[0m\u001b[0mself\u001b[0m\u001b[0;34m.\u001b[0m\u001b[0m_dataset\u001b[0m\u001b[0;34m)\u001b[0m\u001b[0;34m\u001b[0m\u001b[0;34m\u001b[0m\u001b[0m\n\u001b[0m\u001b[1;32m   1196\u001b[0m       \u001b[0;32mfor\u001b[0m \u001b[0mepoch\u001b[0m \u001b[0;32min\u001b[0m \u001b[0mrange\u001b[0m\u001b[0;34m(\u001b[0m\u001b[0mself\u001b[0m\u001b[0;34m.\u001b[0m\u001b[0m_initial_epoch\u001b[0m\u001b[0;34m,\u001b[0m \u001b[0mself\u001b[0m\u001b[0;34m.\u001b[0m\u001b[0m_epochs\u001b[0m\u001b[0;34m)\u001b[0m\u001b[0;34m:\u001b[0m\u001b[0;34m\u001b[0m\u001b[0;34m\u001b[0m\u001b[0m\n\u001b[1;32m   1197\u001b[0m         \u001b[0;32mif\u001b[0m \u001b[0mself\u001b[0m\u001b[0;34m.\u001b[0m\u001b[0m_insufficient_data\u001b[0m\u001b[0;34m:\u001b[0m  \u001b[0;31m# Set by `catch_stop_iteration`.\u001b[0m\u001b[0;34m\u001b[0m\u001b[0;34m\u001b[0m\u001b[0m\n",
      "\u001b[0;32m/opt/homebrew/Caskroom/miniforge/base/envs/tf26py39/lib/python3.9/site-packages/tensorflow/python/data/ops/dataset_ops.py\u001b[0m in \u001b[0;36m__iter__\u001b[0;34m(self)\u001b[0m\n\u001b[1;32m    488\u001b[0m     \u001b[0;32mif\u001b[0m \u001b[0mcontext\u001b[0m\u001b[0;34m.\u001b[0m\u001b[0mexecuting_eagerly\u001b[0m\u001b[0;34m(\u001b[0m\u001b[0;34m)\u001b[0m \u001b[0;32mor\u001b[0m \u001b[0mops\u001b[0m\u001b[0;34m.\u001b[0m\u001b[0minside_function\u001b[0m\u001b[0;34m(\u001b[0m\u001b[0;34m)\u001b[0m\u001b[0;34m:\u001b[0m\u001b[0;34m\u001b[0m\u001b[0;34m\u001b[0m\u001b[0m\n\u001b[1;32m    489\u001b[0m       \u001b[0;32mwith\u001b[0m \u001b[0mops\u001b[0m\u001b[0;34m.\u001b[0m\u001b[0mcolocate_with\u001b[0m\u001b[0;34m(\u001b[0m\u001b[0mself\u001b[0m\u001b[0;34m.\u001b[0m\u001b[0m_variant_tensor\u001b[0m\u001b[0;34m)\u001b[0m\u001b[0;34m:\u001b[0m\u001b[0;34m\u001b[0m\u001b[0;34m\u001b[0m\u001b[0m\n\u001b[0;32m--> 490\u001b[0;31m         \u001b[0;32mreturn\u001b[0m \u001b[0miterator_ops\u001b[0m\u001b[0;34m.\u001b[0m\u001b[0mOwnedIterator\u001b[0m\u001b[0;34m(\u001b[0m\u001b[0mself\u001b[0m\u001b[0;34m)\u001b[0m\u001b[0;34m\u001b[0m\u001b[0;34m\u001b[0m\u001b[0m\n\u001b[0m\u001b[1;32m    491\u001b[0m     \u001b[0;32melse\u001b[0m\u001b[0;34m:\u001b[0m\u001b[0;34m\u001b[0m\u001b[0;34m\u001b[0m\u001b[0m\n\u001b[1;32m    492\u001b[0m       raise RuntimeError(\"`tf.data.Dataset` only supports Python-style \"\n",
      "\u001b[0;32m/opt/homebrew/Caskroom/miniforge/base/envs/tf26py39/lib/python3.9/site-packages/tensorflow/python/data/ops/iterator_ops.py\u001b[0m in \u001b[0;36m__init__\u001b[0;34m(self, dataset, components, element_spec)\u001b[0m\n\u001b[1;32m    724\u001b[0m             \u001b[0;34m\"When `dataset` is provided, `element_spec` and `components` must \"\u001b[0m\u001b[0;34m\u001b[0m\u001b[0;34m\u001b[0m\u001b[0m\n\u001b[1;32m    725\u001b[0m             \"not be specified.\")\n\u001b[0;32m--> 726\u001b[0;31m       \u001b[0mself\u001b[0m\u001b[0;34m.\u001b[0m\u001b[0m_create_iterator\u001b[0m\u001b[0;34m(\u001b[0m\u001b[0mdataset\u001b[0m\u001b[0;34m)\u001b[0m\u001b[0;34m\u001b[0m\u001b[0;34m\u001b[0m\u001b[0m\n\u001b[0m\u001b[1;32m    727\u001b[0m \u001b[0;34m\u001b[0m\u001b[0m\n\u001b[1;32m    728\u001b[0m     \u001b[0mself\u001b[0m\u001b[0;34m.\u001b[0m\u001b[0m_get_next_call_count\u001b[0m \u001b[0;34m=\u001b[0m \u001b[0;36m0\u001b[0m\u001b[0;34m\u001b[0m\u001b[0;34m\u001b[0m\u001b[0m\n",
      "\u001b[0;32m/opt/homebrew/Caskroom/miniforge/base/envs/tf26py39/lib/python3.9/site-packages/tensorflow/python/data/ops/iterator_ops.py\u001b[0m in \u001b[0;36m_create_iterator\u001b[0;34m(self, dataset)\u001b[0m\n\u001b[1;32m    749\u001b[0m               \u001b[0moutput_types\u001b[0m\u001b[0;34m=\u001b[0m\u001b[0mself\u001b[0m\u001b[0;34m.\u001b[0m\u001b[0m_flat_output_types\u001b[0m\u001b[0;34m,\u001b[0m\u001b[0;34m\u001b[0m\u001b[0;34m\u001b[0m\u001b[0m\n\u001b[1;32m    750\u001b[0m               output_shapes=self._flat_output_shapes))\n\u001b[0;32m--> 751\u001b[0;31m       \u001b[0mgen_dataset_ops\u001b[0m\u001b[0;34m.\u001b[0m\u001b[0mmake_iterator\u001b[0m\u001b[0;34m(\u001b[0m\u001b[0mds_variant\u001b[0m\u001b[0;34m,\u001b[0m \u001b[0mself\u001b[0m\u001b[0;34m.\u001b[0m\u001b[0m_iterator_resource\u001b[0m\u001b[0;34m)\u001b[0m\u001b[0;34m\u001b[0m\u001b[0;34m\u001b[0m\u001b[0m\n\u001b[0m\u001b[1;32m    752\u001b[0m       \u001b[0;31m# Delete the resource when this object is deleted\u001b[0m\u001b[0;34m\u001b[0m\u001b[0;34m\u001b[0m\u001b[0m\n\u001b[1;32m    753\u001b[0m       self._resource_deleter = IteratorResourceDeleter(\n",
      "\u001b[0;32m/opt/homebrew/Caskroom/miniforge/base/envs/tf26py39/lib/python3.9/site-packages/tensorflow/python/ops/gen_dataset_ops.py\u001b[0m in \u001b[0;36mmake_iterator\u001b[0;34m(dataset, iterator, name)\u001b[0m\n\u001b[1;32m   3235\u001b[0m   \u001b[0;32mif\u001b[0m \u001b[0mtld\u001b[0m\u001b[0;34m.\u001b[0m\u001b[0mis_eager\u001b[0m\u001b[0;34m:\u001b[0m\u001b[0;34m\u001b[0m\u001b[0;34m\u001b[0m\u001b[0m\n\u001b[1;32m   3236\u001b[0m     \u001b[0;32mtry\u001b[0m\u001b[0;34m:\u001b[0m\u001b[0;34m\u001b[0m\u001b[0;34m\u001b[0m\u001b[0m\n\u001b[0;32m-> 3237\u001b[0;31m       _result = pywrap_tfe.TFE_Py_FastPathExecute(\n\u001b[0m\u001b[1;32m   3238\u001b[0m         _ctx, \"MakeIterator\", name, dataset, iterator)\n\u001b[1;32m   3239\u001b[0m       \u001b[0;32mreturn\u001b[0m \u001b[0m_result\u001b[0m\u001b[0;34m\u001b[0m\u001b[0;34m\u001b[0m\u001b[0m\n",
      "\u001b[0;31mKeyboardInterrupt\u001b[0m: "
     ]
    }
   ],
   "source": [
    "resnet = Resnet() \n",
    "resnet.compile(loss=categorical_crossentropy,\n",
    "                  optimizer=SGD(LEARNING_RATE,MOMENTUM),\n",
    "                  metrics= categorical_accuracy)\n",
    "RESNET_LOG = os.path.join(LOG_DIR, \"resnet\",\n",
    "                        f\"test_modele_prof\")\n",
    "resnet.fit(x_train,y_train,\n",
    "              batch_size=BATCH_SIZE,\n",
    "              epochs=EPOCHS,\n",
    "              validation_data=(x_test, y_test),\n",
    "              shuffle=SHUFFLE,\n",
    "              callbacks=[tf.keras.callbacks.TensorBoard(RESNET_LOG, histogram_freq=1)])"
   ]
  },
  {
   "cell_type": "code",
   "execution_count": null,
   "id": "4ad8e2f6",
   "metadata": {},
   "outputs": [],
   "source": []
  }
 ],
 "metadata": {
  "kernelspec": {
   "display_name": "Python 3 (ipykernel)",
   "language": "python",
   "name": "python3"
  },
  "language_info": {
   "codemirror_mode": {
    "name": "ipython",
    "version": 3
   },
   "file_extension": ".py",
   "mimetype": "text/x-python",
   "name": "python",
   "nbconvert_exporter": "python",
   "pygments_lexer": "ipython3",
   "version": "3.9.7"
  }
 },
 "nbformat": 4,
 "nbformat_minor": 5
}
